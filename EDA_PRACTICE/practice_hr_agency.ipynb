{
 "cells": [
  {
   "cell_type": "markdown",
   "id": "112c70df",
   "metadata": {},
   "source": [
    "# **Иследование данных  HR-агенства**"
   ]
  },
  {
   "cell_type": "markdown",
   "id": "88a91b95",
   "metadata": {},
   "source": [
    "## 1. Постановка задачи"
   ]
  },
  {
   "cell_type": "markdown",
   "id": "112e23e6",
   "metadata": {},
   "source": [
    "1. Выяснить, какие факторы влияют на зарплату специалиста Data Scientist.\n",
    "\n",
    "2. Ответить на ключевые вопросы HR-агентства:\n",
    "+ Наблюдается ли ежегодный рост зарплат у специалистов Data Scientist?\n",
    "+ Как соотносятся зарплаты Data Scientist и Data Engineer в 2022 году?\n",
    "+ Как соотносятся зарплаты специалистов Data Scientist в компаниях различных размеров?\n",
    "+ Есть ли связь между наличием должностей Data Scientist и Data Engineer и размером компании?\n",
    "+ Если вы найдёте в данных интересные закономерности, также отметьте их в своём анализе.\n",
    "\n",
    "3. Продемонстрировать использование разных тестов для проверки статистической значимости сделанных выводов:\n",
    "+ тесты для количественного признака:\n",
    "+ для одной выборки;\n",
    "+ для двух выборок;\n",
    "+ для нескольких выборок;\n",
    "+ тест для категориальных признаков.\n",
    "\n"
   ]
  },
  {
   "cell_type": "markdown",
   "id": "936873b9",
   "metadata": {},
   "source": [
    "#### *Описание столбцов:*\n",
    "+ **work_year**\tГод, в котором была выплачена зарплата.\n",
    "+ **experience_level**\tОпыт работы на этой должности в течение года со следующими возможными значениями:\n",
    "    - EN — Entry-level/Junior;\n",
    "    - MI — Mid-level/Intermediate;\n",
    "    - SE — Senior-level/Expert;\n",
    "    - EX — Executive-level/Director.\n",
    "+ **employment_type**\tТип трудоустройства для этой роли:\n",
    "    - PT — неполный рабочий день;\n",
    "    - FT — полный рабочий день;\n",
    "    - CT — контракт;\n",
    "    - FL — фриланс.\n",
    "+ **job_title**\tРоль, в которой соискатель работал в течение года.\n",
    "+ **salary**\tОбщая выплаченная валовая сумма заработной платы.\n",
    "+ **salary_currency**\tВалюта выплачиваемой заработной платы в виде кода валюты ISO 4217.\n",
    "+ **salary_in_usd**\tЗарплата в долларах США (валютный курс, делённый на среднее значение курса доллара США за соответствующий год через fxdata.foorilla.com).\n",
    "+ **employee_residence**\tОсновная страна проживания сотрудника в течение рабочего года в виде кода страны ISO 3166.\n",
    "+ **remote_ratio**\tОбщий объём работы, выполняемой удалённо. Возможные значения:\n",
    "    - 0 — удалённой работы нет (менее 20 %);\n",
    "    - 50 — частично удалённая работа;\n",
    "    - 100 — полностью удалённая работа (более 80 %).\n",
    "+ **company_location**\tСтрана главного офиса работодателя или филиала по контракту в виде кода страны ISO 3166.\n",
    "+ **company_size**\tСреднее количество людей, работавших в компании в течение года:\n",
    "    - S — менее 50 сотрудников (небольшая компания);\n",
    "    - M — от 50 до 250 сотрудников (средняя компания);\n",
    "    - L — более 250 сотрудников (крупная компания)."
   ]
  },
  {
   "cell_type": "markdown",
   "id": "9b17b347",
   "metadata": {},
   "source": [
    "## 2. Загрузка и предварительный анализ"
   ]
  },
  {
   "cell_type": "code",
   "execution_count": 177,
   "id": "44e3da79",
   "metadata": {},
   "outputs": [],
   "source": [
    "#импортируем библиотеки необходимые для работы \n",
    "import pandas as pd\n",
    "import numpy as np\n",
    "import dtale\n",
    "\n",
    "from scipy import stats\n",
    "import statsmodels.api as sm\n",
    "from statsmodels import stats as sms\n",
    "from scipy.stats import shapiro\n",
    "\n",
    "\n",
    "import matplotlib.pyplot as plt\n",
    "import seaborn as sns\n",
    "\n",
    "\n",
    "\n",
    "# делаем визуальную настройку графиков\n",
    "sns.set_theme(\"notebook\") \n",
    "sns.set_palette(\"Set2\") "
   ]
  },
  {
   "cell_type": "code",
   "execution_count": 178,
   "id": "442d4a30",
   "metadata": {},
   "outputs": [
    {
     "data": {
      "application/vnd.microsoft.datawrangler.viewer.v0+json": {
       "columns": [
        {
         "name": "index",
         "rawType": "int64",
         "type": "integer"
        },
        {
         "name": "Unnamed: 0",
         "rawType": "int64",
         "type": "integer"
        },
        {
         "name": "work_year",
         "rawType": "int64",
         "type": "integer"
        },
        {
         "name": "experience_level",
         "rawType": "object",
         "type": "string"
        },
        {
         "name": "employment_type",
         "rawType": "object",
         "type": "string"
        },
        {
         "name": "job_title",
         "rawType": "object",
         "type": "string"
        },
        {
         "name": "salary",
         "rawType": "int64",
         "type": "integer"
        },
        {
         "name": "salary_currency",
         "rawType": "object",
         "type": "string"
        },
        {
         "name": "salary_in_usd",
         "rawType": "int64",
         "type": "integer"
        },
        {
         "name": "employee_residence",
         "rawType": "object",
         "type": "string"
        },
        {
         "name": "remote_ratio",
         "rawType": "int64",
         "type": "integer"
        },
        {
         "name": "company_location",
         "rawType": "object",
         "type": "string"
        },
        {
         "name": "company_size",
         "rawType": "object",
         "type": "string"
        }
       ],
       "ref": "2ad3b895-18e8-4f06-83f4-fd20a35144d5",
       "rows": [
        [
         "0",
         "0",
         "2020",
         "MI",
         "FT",
         "Data Scientist",
         "70000",
         "EUR",
         "79833",
         "DE",
         "0",
         "DE",
         "L"
        ],
        [
         "1",
         "1",
         "2020",
         "SE",
         "FT",
         "Machine Learning Scientist",
         "260000",
         "USD",
         "260000",
         "JP",
         "0",
         "JP",
         "S"
        ],
        [
         "2",
         "2",
         "2020",
         "SE",
         "FT",
         "Big Data Engineer",
         "85000",
         "GBP",
         "109024",
         "GB",
         "50",
         "GB",
         "M"
        ],
        [
         "3",
         "3",
         "2020",
         "MI",
         "FT",
         "Product Data Analyst",
         "20000",
         "USD",
         "20000",
         "HN",
         "0",
         "HN",
         "S"
        ],
        [
         "4",
         "4",
         "2020",
         "SE",
         "FT",
         "Machine Learning Engineer",
         "150000",
         "USD",
         "150000",
         "US",
         "50",
         "US",
         "L"
        ]
       ],
       "shape": {
        "columns": 12,
        "rows": 5
       }
      },
      "text/html": [
       "<div>\n",
       "<style scoped>\n",
       "    .dataframe tbody tr th:only-of-type {\n",
       "        vertical-align: middle;\n",
       "    }\n",
       "\n",
       "    .dataframe tbody tr th {\n",
       "        vertical-align: top;\n",
       "    }\n",
       "\n",
       "    .dataframe thead th {\n",
       "        text-align: right;\n",
       "    }\n",
       "</style>\n",
       "<table border=\"1\" class=\"dataframe\">\n",
       "  <thead>\n",
       "    <tr style=\"text-align: right;\">\n",
       "      <th></th>\n",
       "      <th>Unnamed: 0</th>\n",
       "      <th>work_year</th>\n",
       "      <th>experience_level</th>\n",
       "      <th>employment_type</th>\n",
       "      <th>job_title</th>\n",
       "      <th>salary</th>\n",
       "      <th>salary_currency</th>\n",
       "      <th>salary_in_usd</th>\n",
       "      <th>employee_residence</th>\n",
       "      <th>remote_ratio</th>\n",
       "      <th>company_location</th>\n",
       "      <th>company_size</th>\n",
       "    </tr>\n",
       "  </thead>\n",
       "  <tbody>\n",
       "    <tr>\n",
       "      <th>0</th>\n",
       "      <td>0</td>\n",
       "      <td>2020</td>\n",
       "      <td>MI</td>\n",
       "      <td>FT</td>\n",
       "      <td>Data Scientist</td>\n",
       "      <td>70000</td>\n",
       "      <td>EUR</td>\n",
       "      <td>79833</td>\n",
       "      <td>DE</td>\n",
       "      <td>0</td>\n",
       "      <td>DE</td>\n",
       "      <td>L</td>\n",
       "    </tr>\n",
       "    <tr>\n",
       "      <th>1</th>\n",
       "      <td>1</td>\n",
       "      <td>2020</td>\n",
       "      <td>SE</td>\n",
       "      <td>FT</td>\n",
       "      <td>Machine Learning Scientist</td>\n",
       "      <td>260000</td>\n",
       "      <td>USD</td>\n",
       "      <td>260000</td>\n",
       "      <td>JP</td>\n",
       "      <td>0</td>\n",
       "      <td>JP</td>\n",
       "      <td>S</td>\n",
       "    </tr>\n",
       "    <tr>\n",
       "      <th>2</th>\n",
       "      <td>2</td>\n",
       "      <td>2020</td>\n",
       "      <td>SE</td>\n",
       "      <td>FT</td>\n",
       "      <td>Big Data Engineer</td>\n",
       "      <td>85000</td>\n",
       "      <td>GBP</td>\n",
       "      <td>109024</td>\n",
       "      <td>GB</td>\n",
       "      <td>50</td>\n",
       "      <td>GB</td>\n",
       "      <td>M</td>\n",
       "    </tr>\n",
       "    <tr>\n",
       "      <th>3</th>\n",
       "      <td>3</td>\n",
       "      <td>2020</td>\n",
       "      <td>MI</td>\n",
       "      <td>FT</td>\n",
       "      <td>Product Data Analyst</td>\n",
       "      <td>20000</td>\n",
       "      <td>USD</td>\n",
       "      <td>20000</td>\n",
       "      <td>HN</td>\n",
       "      <td>0</td>\n",
       "      <td>HN</td>\n",
       "      <td>S</td>\n",
       "    </tr>\n",
       "    <tr>\n",
       "      <th>4</th>\n",
       "      <td>4</td>\n",
       "      <td>2020</td>\n",
       "      <td>SE</td>\n",
       "      <td>FT</td>\n",
       "      <td>Machine Learning Engineer</td>\n",
       "      <td>150000</td>\n",
       "      <td>USD</td>\n",
       "      <td>150000</td>\n",
       "      <td>US</td>\n",
       "      <td>50</td>\n",
       "      <td>US</td>\n",
       "      <td>L</td>\n",
       "    </tr>\n",
       "  </tbody>\n",
       "</table>\n",
       "</div>"
      ],
      "text/plain": [
       "   Unnamed: 0  work_year experience_level employment_type  \\\n",
       "0           0       2020               MI              FT   \n",
       "1           1       2020               SE              FT   \n",
       "2           2       2020               SE              FT   \n",
       "3           3       2020               MI              FT   \n",
       "4           4       2020               SE              FT   \n",
       "\n",
       "                    job_title  salary salary_currency  salary_in_usd  \\\n",
       "0              Data Scientist   70000             EUR          79833   \n",
       "1  Machine Learning Scientist  260000             USD         260000   \n",
       "2           Big Data Engineer   85000             GBP         109024   \n",
       "3        Product Data Analyst   20000             USD          20000   \n",
       "4   Machine Learning Engineer  150000             USD         150000   \n",
       "\n",
       "  employee_residence  remote_ratio company_location company_size  \n",
       "0                 DE             0               DE            L  \n",
       "1                 JP             0               JP            S  \n",
       "2                 GB            50               GB            M  \n",
       "3                 HN             0               HN            S  \n",
       "4                 US            50               US            L  "
      ]
     },
     "execution_count": 178,
     "metadata": {},
     "output_type": "execute_result"
    }
   ],
   "source": [
    "#загружаем датасет \n",
    "data= pd.read_csv('ds_salaries.csv', index_col=False)\n",
    "data.head()"
   ]
  },
  {
   "cell_type": "code",
   "execution_count": 179,
   "id": "64b7b492",
   "metadata": {},
   "outputs": [
    {
     "name": "stdout",
     "output_type": "stream",
     "text": [
      "Уровень значимости alpha = 0.05\n"
     ]
    }
   ],
   "source": [
    "#задаем уровень значимости для дальнейшей работы \n",
    "alpha= 0.05\n",
    "print('Уровень значимости alpha = {:.2f}'.format(alpha))"
   ]
  },
  {
   "cell_type": "code",
   "execution_count": 180,
   "id": "46500143",
   "metadata": {},
   "outputs": [],
   "source": [
    "# функция для принятия решения о нормальности\n",
    "def decision_normality(p):\n",
    "    print('p-value = {:.3f}'.format(p))\n",
    "    if p <= alpha:\n",
    "        print('p-значение меньше, чем заданный уровень значимости {:.2f}. Распределение отлично от нормального'.format(alpha))\n",
    "    else:\n",
    "        print('p-значение больше, чем заданный уровень значимости {:.2f}. Распределение является нормальным'.format(alpha))\n",
    "\n",
    "\n",
    "# функция для принятия решения об отклонении нулевой гипотезы\n",
    "def decision_hypothesis(p):\n",
    "    print('p-value = {:.3f}'.format(p))\n",
    "    if p <= alpha:\n",
    "        print('p-значение меньше, чем заданный уровень значимости {:.2f}. Отвергаем нулевую гипотезу в пользу альтернативной.'.format(alpha))\n",
    "    else:\n",
    "        print('p-значение больше, чем заданный уровень значимости {:.2f}. У нас нет оснований отвергнуть нулевую гипотезу.'.format(alpha))"
   ]
  },
  {
   "cell_type": "code",
   "execution_count": 181,
   "id": "75e8b4db",
   "metadata": {},
   "outputs": [],
   "source": [
    "#для первичного анализа перед очитской базы детально знакомимся с данными через  библиотеку dtale\n",
    "d= dtale.show(data)\n",
    "#d.open_browser()"
   ]
  },
  {
   "cell_type": "markdown",
   "id": "6dd4502d",
   "metadata": {},
   "source": [
    "## 3. Очистка данных"
   ]
  },
  {
   "cell_type": "code",
   "execution_count": 182,
   "id": "6344877b",
   "metadata": {},
   "outputs": [
    {
     "name": "stdout",
     "output_type": "stream",
     "text": [
      "<class 'pandas.core.frame.DataFrame'>\n",
      "RangeIndex: 607 entries, 0 to 606\n",
      "Data columns (total 12 columns):\n",
      " #   Column              Non-Null Count  Dtype \n",
      "---  ------              --------------  ----- \n",
      " 0   Unnamed: 0          607 non-null    int64 \n",
      " 1   work_year           607 non-null    int64 \n",
      " 2   experience_level    607 non-null    object\n",
      " 3   employment_type     607 non-null    object\n",
      " 4   job_title           607 non-null    object\n",
      " 5   salary              607 non-null    int64 \n",
      " 6   salary_currency     607 non-null    object\n",
      " 7   salary_in_usd       607 non-null    int64 \n",
      " 8   employee_residence  607 non-null    object\n",
      " 9   remote_ratio        607 non-null    int64 \n",
      " 10  company_location    607 non-null    object\n",
      " 11  company_size        607 non-null    object\n",
      "dtypes: int64(5), object(7)\n",
      "memory usage: 57.0+ KB\n"
     ]
    }
   ],
   "source": [
    "#проверяем датасет на наличие пропусков \n",
    "data.info()\n"
   ]
  },
  {
   "cell_type": "markdown",
   "id": "e1877241",
   "metadata": {},
   "source": [
    "        - Датасет не имеет пропусков"
   ]
  },
  {
   "cell_type": "markdown",
   "id": "d2abc973",
   "metadata": {},
   "source": [
    "### **Удаление неинформативных признаков, дубликатов**"
   ]
  },
  {
   "cell_type": "code",
   "execution_count": 183,
   "id": "b64d48ce",
   "metadata": {},
   "outputs": [
    {
     "data": {
      "application/vnd.microsoft.datawrangler.viewer.v0+json": {
       "columns": [
        {
         "name": "index",
         "rawType": "object",
         "type": "string"
        },
        {
         "name": "Unnamed: 0",
         "rawType": "float64",
         "type": "float"
        },
        {
         "name": "work_year",
         "rawType": "float64",
         "type": "float"
        },
        {
         "name": "experience_level",
         "rawType": "object",
         "type": "unknown"
        },
        {
         "name": "employment_type",
         "rawType": "object",
         "type": "unknown"
        },
        {
         "name": "job_title",
         "rawType": "object",
         "type": "unknown"
        },
        {
         "name": "salary",
         "rawType": "float64",
         "type": "float"
        },
        {
         "name": "salary_currency",
         "rawType": "object",
         "type": "unknown"
        },
        {
         "name": "salary_in_usd",
         "rawType": "float64",
         "type": "float"
        },
        {
         "name": "employee_residence",
         "rawType": "object",
         "type": "unknown"
        },
        {
         "name": "remote_ratio",
         "rawType": "float64",
         "type": "float"
        },
        {
         "name": "company_location",
         "rawType": "object",
         "type": "unknown"
        },
        {
         "name": "company_size",
         "rawType": "object",
         "type": "unknown"
        }
       ],
       "ref": "acc2adc5-a772-4c2d-bfd0-64bf58a7876d",
       "rows": [
        [
         "count",
         "607.0",
         "607.0",
         "607",
         "607",
         "607",
         "607.0",
         "607",
         "607.0",
         "607",
         "607.0",
         "607",
         "607"
        ],
        [
         "unique",
         null,
         null,
         "4",
         "4",
         "50",
         null,
         "17",
         null,
         "57",
         null,
         "50",
         "3"
        ],
        [
         "top",
         null,
         null,
         "SE",
         "FT",
         "Data Scientist",
         null,
         "USD",
         null,
         "US",
         null,
         "US",
         "M"
        ],
        [
         "freq",
         null,
         null,
         "280",
         "588",
         "143",
         null,
         "398",
         null,
         "332",
         null,
         "355",
         "326"
        ],
        [
         "mean",
         "303.0",
         "2021.4052718286655",
         null,
         null,
         null,
         "324000.0626029654",
         null,
         "112297.86985172982",
         null,
         "70.92257001647447",
         null,
         null
        ],
        [
         "std",
         "175.37008486816293",
         "0.692132985452652",
         null,
         null,
         null,
         "1544357.4866358503",
         null,
         "70957.25941139569",
         null,
         "40.70913004022121",
         null,
         null
        ],
        [
         "min",
         "0.0",
         "2020.0",
         null,
         null,
         null,
         "4000.0",
         null,
         "2859.0",
         null,
         "0.0",
         null,
         null
        ],
        [
         "25%",
         "151.5",
         "2021.0",
         null,
         null,
         null,
         "70000.0",
         null,
         "62726.0",
         null,
         "50.0",
         null,
         null
        ],
        [
         "50%",
         "303.0",
         "2022.0",
         null,
         null,
         null,
         "115000.0",
         null,
         "101570.0",
         null,
         "100.0",
         null,
         null
        ],
        [
         "75%",
         "454.5",
         "2022.0",
         null,
         null,
         null,
         "165000.0",
         null,
         "150000.0",
         null,
         "100.0",
         null,
         null
        ],
        [
         "max",
         "606.0",
         "2022.0",
         null,
         null,
         null,
         "30400000.0",
         null,
         "600000.0",
         null,
         "100.0",
         null,
         null
        ]
       ],
       "shape": {
        "columns": 12,
        "rows": 11
       }
      },
      "text/html": [
       "<div>\n",
       "<style scoped>\n",
       "    .dataframe tbody tr th:only-of-type {\n",
       "        vertical-align: middle;\n",
       "    }\n",
       "\n",
       "    .dataframe tbody tr th {\n",
       "        vertical-align: top;\n",
       "    }\n",
       "\n",
       "    .dataframe thead th {\n",
       "        text-align: right;\n",
       "    }\n",
       "</style>\n",
       "<table border=\"1\" class=\"dataframe\">\n",
       "  <thead>\n",
       "    <tr style=\"text-align: right;\">\n",
       "      <th></th>\n",
       "      <th>Unnamed: 0</th>\n",
       "      <th>work_year</th>\n",
       "      <th>experience_level</th>\n",
       "      <th>employment_type</th>\n",
       "      <th>job_title</th>\n",
       "      <th>salary</th>\n",
       "      <th>salary_currency</th>\n",
       "      <th>salary_in_usd</th>\n",
       "      <th>employee_residence</th>\n",
       "      <th>remote_ratio</th>\n",
       "      <th>company_location</th>\n",
       "      <th>company_size</th>\n",
       "    </tr>\n",
       "  </thead>\n",
       "  <tbody>\n",
       "    <tr>\n",
       "      <th>count</th>\n",
       "      <td>607.000000</td>\n",
       "      <td>607.000000</td>\n",
       "      <td>607</td>\n",
       "      <td>607</td>\n",
       "      <td>607</td>\n",
       "      <td>6.070000e+02</td>\n",
       "      <td>607</td>\n",
       "      <td>607.000000</td>\n",
       "      <td>607</td>\n",
       "      <td>607.00000</td>\n",
       "      <td>607</td>\n",
       "      <td>607</td>\n",
       "    </tr>\n",
       "    <tr>\n",
       "      <th>unique</th>\n",
       "      <td>NaN</td>\n",
       "      <td>NaN</td>\n",
       "      <td>4</td>\n",
       "      <td>4</td>\n",
       "      <td>50</td>\n",
       "      <td>NaN</td>\n",
       "      <td>17</td>\n",
       "      <td>NaN</td>\n",
       "      <td>57</td>\n",
       "      <td>NaN</td>\n",
       "      <td>50</td>\n",
       "      <td>3</td>\n",
       "    </tr>\n",
       "    <tr>\n",
       "      <th>top</th>\n",
       "      <td>NaN</td>\n",
       "      <td>NaN</td>\n",
       "      <td>SE</td>\n",
       "      <td>FT</td>\n",
       "      <td>Data Scientist</td>\n",
       "      <td>NaN</td>\n",
       "      <td>USD</td>\n",
       "      <td>NaN</td>\n",
       "      <td>US</td>\n",
       "      <td>NaN</td>\n",
       "      <td>US</td>\n",
       "      <td>M</td>\n",
       "    </tr>\n",
       "    <tr>\n",
       "      <th>freq</th>\n",
       "      <td>NaN</td>\n",
       "      <td>NaN</td>\n",
       "      <td>280</td>\n",
       "      <td>588</td>\n",
       "      <td>143</td>\n",
       "      <td>NaN</td>\n",
       "      <td>398</td>\n",
       "      <td>NaN</td>\n",
       "      <td>332</td>\n",
       "      <td>NaN</td>\n",
       "      <td>355</td>\n",
       "      <td>326</td>\n",
       "    </tr>\n",
       "    <tr>\n",
       "      <th>mean</th>\n",
       "      <td>303.000000</td>\n",
       "      <td>2021.405272</td>\n",
       "      <td>NaN</td>\n",
       "      <td>NaN</td>\n",
       "      <td>NaN</td>\n",
       "      <td>3.240001e+05</td>\n",
       "      <td>NaN</td>\n",
       "      <td>112297.869852</td>\n",
       "      <td>NaN</td>\n",
       "      <td>70.92257</td>\n",
       "      <td>NaN</td>\n",
       "      <td>NaN</td>\n",
       "    </tr>\n",
       "    <tr>\n",
       "      <th>std</th>\n",
       "      <td>175.370085</td>\n",
       "      <td>0.692133</td>\n",
       "      <td>NaN</td>\n",
       "      <td>NaN</td>\n",
       "      <td>NaN</td>\n",
       "      <td>1.544357e+06</td>\n",
       "      <td>NaN</td>\n",
       "      <td>70957.259411</td>\n",
       "      <td>NaN</td>\n",
       "      <td>40.70913</td>\n",
       "      <td>NaN</td>\n",
       "      <td>NaN</td>\n",
       "    </tr>\n",
       "    <tr>\n",
       "      <th>min</th>\n",
       "      <td>0.000000</td>\n",
       "      <td>2020.000000</td>\n",
       "      <td>NaN</td>\n",
       "      <td>NaN</td>\n",
       "      <td>NaN</td>\n",
       "      <td>4.000000e+03</td>\n",
       "      <td>NaN</td>\n",
       "      <td>2859.000000</td>\n",
       "      <td>NaN</td>\n",
       "      <td>0.00000</td>\n",
       "      <td>NaN</td>\n",
       "      <td>NaN</td>\n",
       "    </tr>\n",
       "    <tr>\n",
       "      <th>25%</th>\n",
       "      <td>151.500000</td>\n",
       "      <td>2021.000000</td>\n",
       "      <td>NaN</td>\n",
       "      <td>NaN</td>\n",
       "      <td>NaN</td>\n",
       "      <td>7.000000e+04</td>\n",
       "      <td>NaN</td>\n",
       "      <td>62726.000000</td>\n",
       "      <td>NaN</td>\n",
       "      <td>50.00000</td>\n",
       "      <td>NaN</td>\n",
       "      <td>NaN</td>\n",
       "    </tr>\n",
       "    <tr>\n",
       "      <th>50%</th>\n",
       "      <td>303.000000</td>\n",
       "      <td>2022.000000</td>\n",
       "      <td>NaN</td>\n",
       "      <td>NaN</td>\n",
       "      <td>NaN</td>\n",
       "      <td>1.150000e+05</td>\n",
       "      <td>NaN</td>\n",
       "      <td>101570.000000</td>\n",
       "      <td>NaN</td>\n",
       "      <td>100.00000</td>\n",
       "      <td>NaN</td>\n",
       "      <td>NaN</td>\n",
       "    </tr>\n",
       "    <tr>\n",
       "      <th>75%</th>\n",
       "      <td>454.500000</td>\n",
       "      <td>2022.000000</td>\n",
       "      <td>NaN</td>\n",
       "      <td>NaN</td>\n",
       "      <td>NaN</td>\n",
       "      <td>1.650000e+05</td>\n",
       "      <td>NaN</td>\n",
       "      <td>150000.000000</td>\n",
       "      <td>NaN</td>\n",
       "      <td>100.00000</td>\n",
       "      <td>NaN</td>\n",
       "      <td>NaN</td>\n",
       "    </tr>\n",
       "    <tr>\n",
       "      <th>max</th>\n",
       "      <td>606.000000</td>\n",
       "      <td>2022.000000</td>\n",
       "      <td>NaN</td>\n",
       "      <td>NaN</td>\n",
       "      <td>NaN</td>\n",
       "      <td>3.040000e+07</td>\n",
       "      <td>NaN</td>\n",
       "      <td>600000.000000</td>\n",
       "      <td>NaN</td>\n",
       "      <td>100.00000</td>\n",
       "      <td>NaN</td>\n",
       "      <td>NaN</td>\n",
       "    </tr>\n",
       "  </tbody>\n",
       "</table>\n",
       "</div>"
      ],
      "text/plain": [
       "        Unnamed: 0    work_year experience_level employment_type  \\\n",
       "count   607.000000   607.000000              607             607   \n",
       "unique         NaN          NaN                4               4   \n",
       "top            NaN          NaN               SE              FT   \n",
       "freq           NaN          NaN              280             588   \n",
       "mean    303.000000  2021.405272              NaN             NaN   \n",
       "std     175.370085     0.692133              NaN             NaN   \n",
       "min       0.000000  2020.000000              NaN             NaN   \n",
       "25%     151.500000  2021.000000              NaN             NaN   \n",
       "50%     303.000000  2022.000000              NaN             NaN   \n",
       "75%     454.500000  2022.000000              NaN             NaN   \n",
       "max     606.000000  2022.000000              NaN             NaN   \n",
       "\n",
       "             job_title        salary salary_currency  salary_in_usd  \\\n",
       "count              607  6.070000e+02             607     607.000000   \n",
       "unique              50           NaN              17            NaN   \n",
       "top     Data Scientist           NaN             USD            NaN   \n",
       "freq               143           NaN             398            NaN   \n",
       "mean               NaN  3.240001e+05             NaN  112297.869852   \n",
       "std                NaN  1.544357e+06             NaN   70957.259411   \n",
       "min                NaN  4.000000e+03             NaN    2859.000000   \n",
       "25%                NaN  7.000000e+04             NaN   62726.000000   \n",
       "50%                NaN  1.150000e+05             NaN  101570.000000   \n",
       "75%                NaN  1.650000e+05             NaN  150000.000000   \n",
       "max                NaN  3.040000e+07             NaN  600000.000000   \n",
       "\n",
       "       employee_residence  remote_ratio company_location company_size  \n",
       "count                 607     607.00000              607          607  \n",
       "unique                 57           NaN               50            3  \n",
       "top                    US           NaN               US            M  \n",
       "freq                  332           NaN              355          326  \n",
       "mean                  NaN      70.92257              NaN          NaN  \n",
       "std                   NaN      40.70913              NaN          NaN  \n",
       "min                   NaN       0.00000              NaN          NaN  \n",
       "25%                   NaN      50.00000              NaN          NaN  \n",
       "50%                   NaN     100.00000              NaN          NaN  \n",
       "75%                   NaN     100.00000              NaN          NaN  \n",
       "max                   NaN     100.00000              NaN          NaN  "
      ]
     },
     "execution_count": 183,
     "metadata": {},
     "output_type": "execute_result"
    }
   ],
   "source": [
    "#проверяем данные на неинформативные признаки\n",
    "data.describe(include= \"all\")\n"
   ]
  },
  {
   "cell_type": "code",
   "execution_count": 184,
   "id": "529a3531",
   "metadata": {},
   "outputs": [
    {
     "name": "stdout",
     "output_type": "stream",
     "text": [
      "Unnamed: 0: 100% уникальных значений\n",
      "employment_type: 97% одинаковых значений\n"
     ]
    }
   ],
   "source": [
    "#проверяем на неиформативные признаки\n",
    "low_information_cols= []\n",
    "\n",
    "#цикл по всем столбцам\n",
    "for col in data.columns:\n",
    "    #наибольшая относительная частота \n",
    "    top_freq= data[col].value_counts(normalize=True).max()\n",
    "    #доля уникальных значений от размера признака\n",
    "    nunique_ratio= data[col].nunique() / data[col].count()\n",
    "    #сравниваем наибольшую частоту с порогом\n",
    "    if top_freq> 0.95:\n",
    "        low_information_cols.append(col)\n",
    "        print(f'{col}: {round(top_freq*100)}% одинаковых значений')\n",
    "    if nunique_ratio>0.95:\n",
    "        low_information_cols.append(col)\n",
    "        print(f'{col}: {round(nunique_ratio*100)}% уникальных значений')        \n",
    "        \n",
    "        "
   ]
  },
  {
   "cell_type": "code",
   "execution_count": 185,
   "id": "96ba155d",
   "metadata": {},
   "outputs": [
    {
     "name": "stdout",
     "output_type": "stream",
     "text": [
      "Результирующее число признаков: 8\n"
     ]
    }
   ],
   "source": [
    "#удаляем неинформативные признаки \n",
    "data=data.drop(low_information_cols,axis=1)\n",
    "\n",
    "data=data.drop(['salary','salary_currency'],axis=1)\n",
    "print(f'Результирующее число признаков: {data.shape[1]}')"
   ]
  },
  {
   "cell_type": "markdown",
   "id": "96896824",
   "metadata": {},
   "source": [
    "        - Неинформативными признаками в нашем анализе на данным момент является признак salary (общая сумма выплаченной ЗП), так же salary_currency (валюта в которой выплачивается заработная плата).\n",
    "        - Признак employement_type -  так же является не информативных ,  так как имеет 97% одинаковых  значений.\n",
    "\n",
    "\n",
    " На признаки **employee_residence** и **company_location**,  так же стоит обратить внимание,  так как страна в которой находится компания часто совпадает со странной в которой проживает сотрудник.\\\n",
    " Необходимо провести дополнительный анализ  и при необходимости удалить данные из  датасета.\n"
   ]
  },
  {
   "cell_type": "code",
   "execution_count": 186,
   "id": "87ea1111",
   "metadata": {},
   "outputs": [
    {
     "name": "stdout",
     "output_type": "stream",
     "text": [
      "Количество дубликатов: 42\n"
     ]
    }
   ],
   "source": [
    "# проверяем наличие дубликатов\n",
    "print('Количество дубликатов: {}'.format(data[data.duplicated()].shape[0]))"
   ]
  },
  {
   "cell_type": "code",
   "execution_count": 187,
   "id": "0c201f5e",
   "metadata": {},
   "outputs": [
    {
     "name": "stdout",
     "output_type": "stream",
     "text": [
      "Размер таблицы после удаления дубликатов: (565, 8)\n"
     ]
    }
   ],
   "source": [
    "data= data.drop_duplicates()\n",
    "print('Размер таблицы после удаления дубликатов: {}'.format(data.shape))"
   ]
  },
  {
   "cell_type": "code",
   "execution_count": 188,
   "id": "60a444b1",
   "metadata": {},
   "outputs": [
    {
     "name": "stdout",
     "output_type": "stream",
     "text": [
      "Количество дубликатов: 475. 84% от общего количества\n",
      "Количество уникальных: 90. 16% от общего количества\n"
     ]
    }
   ],
   "source": [
    "# Проводим доп.анализ  признаков 'company_location', 'employee_residence' \n",
    "# Это покажет количество дубликатов, но не удалит их\n",
    "duplicated_mask = data.duplicated(subset=['company_location', 'employee_residence']).sum()\n",
    "prosent_dubl= round((duplicated_mask / data.shape[0])* 100)\n",
    "prosent_uninque =round(((len(data) - duplicated_mask)/ data.shape[0])* 100)\n",
    "print(f\"Количество дубликатов: {duplicated_mask}. {prosent_dubl}% от общего количества\")\n",
    "print(f\"Количество уникальных: {len(data) - duplicated_mask}. {prosent_uninque}% от общего количества\")\n"
   ]
  },
  {
   "cell_type": "code",
   "execution_count": 189,
   "id": "e9a3b6ba",
   "metadata": {},
   "outputs": [
    {
     "data": {
      "text/plain": [
       "(565, 7)"
      ]
     },
     "execution_count": 189,
     "metadata": {},
     "output_type": "execute_result"
    }
   ],
   "source": [
    "data= data.drop(['employee_residence'] , axis=1)\n",
    "data.shape"
   ]
  },
  {
   "cell_type": "markdown",
   "id": "2d0aead2",
   "metadata": {},
   "source": [
    "### **Датасет имеет:**\n",
    "+ 607 записей (без пропущенных значений)\n",
    "\n",
    "+ 4 неинформативных признака\n",
    "    - Unnamed: 0: 100% уникальных значений\n",
    "    - employment_type: 97% одинаковых значений\n",
    "    - salary, salary_currency  этот признак, будет избыточным, тк как используем стандартизированную зарплату в долларах США (salary_in_usd). Включение и валюты, и конвертированной суммы может внести в модель ненужный шум\n",
    "    - employee_residence и company_location -  данные имеют в себе 84% одинаковых  значений. Данный признак не несет в себе информативности и будет нагружать модель для обучения. Один из признаков необходимо удалить\n",
    "\n",
    "\n",
    "+ 42 дубликата \n",
    "\n",
    "**После очисти данных  мы имееи итоговый размер таблицы: (565, 7)**"
   ]
  },
  {
   "cell_type": "code",
   "execution_count": 190,
   "id": "2a89e272",
   "metadata": {},
   "outputs": [
    {
     "data": {
      "text/plain": [
       "<bound method Series.count of work_year             3\n",
       "experience_level      4\n",
       "job_title            50\n",
       "salary_in_usd       369\n",
       "remote_ratio          3\n",
       "company_location     50\n",
       "company_size          3\n",
       "dtype: int64>"
      ]
     },
     "execution_count": 190,
     "metadata": {},
     "output_type": "execute_result"
    }
   ],
   "source": [
    "# считаем уникальное кол-во признаков по столбцам\n",
    "result=(data.nunique().count)\n",
    "result"
   ]
  },
  {
   "cell_type": "markdown",
   "id": "642bb05f",
   "metadata": {},
   "source": [
    "## 4. Визуализация"
   ]
  },
  {
   "cell_type": "markdown",
   "id": "7d7f6751",
   "metadata": {},
   "source": [
    "###  *4.1 Общее распределение зарплат к годам*\n"
   ]
  },
  {
   "cell_type": "code",
   "execution_count": 191,
   "id": "12c74b86",
   "metadata": {},
   "outputs": [
    {
     "name": "stderr",
     "output_type": "stream",
     "text": [
      "d:\\idi\\.venv\\lib\\site-packages\\seaborn\\_base.py:1601: UserWarning:\n",
      "\n",
      "Horizontal orientation ignored with only `y` specified.\n",
      "\n"
     ]
    },
    {
     "data": {
      "image/png": "[encoded data removed]",
      "text/plain": [
       "<Figure size 1800x600 with 3 Axes>"
      ]
     },
     "metadata": {},
     "output_type": "display_data"
    }
   ],
   "source": [
    "\n",
    "# Создаем сетку графиков\n",
    "fig, axes = plt.subplots(1, 3, figsize=(18, 6))\n",
    "\n",
    "# Первый график: распределение зарплат (гистограмма)\n",
    "sns.histplot(data['salary_in_usd'], kde=True, ax=axes[0])\n",
    "axes[0].axvline(data['salary_in_usd'].mean(), color='red', linestyle='--', linewidth=1.5, \n",
    "                label=f'Среднее: {data[\"salary_in_usd\"].mean():.0f} USD')\n",
    "axes[0].set_xlabel('Зарплата (USD)')\n",
    "axes[0].set_ylabel('Количество наблюдений')\n",
    "axes[0].set_title('Распределение зарплат')\n",
    "axes[0].legend()\n",
    "\n",
    "# Второй график: распределение зарплат (ящик с усами)\n",
    "sns.boxplot(y=data['salary_in_usd'], ax=axes[1] , orient='h', medianprops={\"color\": \"red\", \"linestyle\": '--'})\n",
    "axes[1].set_title('Распределение зарплат')\n",
    "axes[1].set_ylabel('Зарплата (USD)')\n",
    "axes[1].set_xlabel('')\n",
    "\n",
    "# Третий график: распределение зарплат по годам\n",
    "sns.boxplot(data=data, x='work_year', y='salary_in_usd', ax=axes[2], medianprops={\"color\": \"red\", \"linestyle\": '--'})\n",
    "axes[2].set_title('Распределение зарплат по годам')\n",
    "axes[2].set_ylabel('Зарплата (USD)')\n",
    "axes[2].set_xlabel('Год')\n",
    "\n",
    "# Автоматическая регулировка layout\n",
    "plt.tight_layout()\n",
    "plt.show()"
   ]
  },
  {
   "cell_type": "code",
   "execution_count": 192,
   "id": "57bec7bd",
   "metadata": {},
   "outputs": [
    {
     "data": {
      "application/vnd.microsoft.datawrangler.viewer.v0+json": {
       "columns": [
        {
         "name": "index",
         "rawType": "object",
         "type": "string"
        },
        {
         "name": "salary_in_usd",
         "rawType": "float64",
         "type": "float"
        }
       ],
       "ref": "27acffaf-32eb-40fc-9c59-b55192cf5291",
       "rows": [
        [
         "count",
         "565.0"
        ],
        [
         "mean",
         "110610.34"
        ],
        [
         "std",
         "72280.7"
        ],
        [
         "min",
         "2859.0"
        ],
        [
         "25%",
         "60757.0"
        ],
        [
         "50%",
         "100000.0"
        ],
        [
         "75%",
         "150000.0"
        ],
        [
         "max",
         "600000.0"
        ]
       ],
       "shape": {
        "columns": 1,
        "rows": 8
       }
      },
      "text/html": [
       "<div>\n",
       "<style scoped>\n",
       "    .dataframe tbody tr th:only-of-type {\n",
       "        vertical-align: middle;\n",
       "    }\n",
       "\n",
       "    .dataframe tbody tr th {\n",
       "        vertical-align: top;\n",
       "    }\n",
       "\n",
       "    .dataframe thead th {\n",
       "        text-align: right;\n",
       "    }\n",
       "</style>\n",
       "<table border=\"1\" class=\"dataframe\">\n",
       "  <thead>\n",
       "    <tr style=\"text-align: right;\">\n",
       "      <th></th>\n",
       "      <th>salary_in_usd</th>\n",
       "    </tr>\n",
       "  </thead>\n",
       "  <tbody>\n",
       "    <tr>\n",
       "      <th>count</th>\n",
       "      <td>565.00</td>\n",
       "    </tr>\n",
       "    <tr>\n",
       "      <th>mean</th>\n",
       "      <td>110610.34</td>\n",
       "    </tr>\n",
       "    <tr>\n",
       "      <th>std</th>\n",
       "      <td>72280.70</td>\n",
       "    </tr>\n",
       "    <tr>\n",
       "      <th>min</th>\n",
       "      <td>2859.00</td>\n",
       "    </tr>\n",
       "    <tr>\n",
       "      <th>25%</th>\n",
       "      <td>60757.00</td>\n",
       "    </tr>\n",
       "    <tr>\n",
       "      <th>50%</th>\n",
       "      <td>100000.00</td>\n",
       "    </tr>\n",
       "    <tr>\n",
       "      <th>75%</th>\n",
       "      <td>150000.00</td>\n",
       "    </tr>\n",
       "    <tr>\n",
       "      <th>max</th>\n",
       "      <td>600000.00</td>\n",
       "    </tr>\n",
       "  </tbody>\n",
       "</table>\n",
       "</div>"
      ],
      "text/plain": [
       "       salary_in_usd\n",
       "count         565.00\n",
       "mean       110610.34\n",
       "std         72280.70\n",
       "min          2859.00\n",
       "25%         60757.00\n",
       "50%        100000.00\n",
       "75%        150000.00\n",
       "max        600000.00"
      ]
     },
     "execution_count": 192,
     "metadata": {},
     "output_type": "execute_result"
    }
   ],
   "source": [
    "agg_data= data['salary_in_usd'].describe().round(2).to_frame()\n",
    "agg_data\n"
   ]
  },
  {
   "cell_type": "code",
   "execution_count": 193,
   "id": "96fe0cff",
   "metadata": {},
   "outputs": [
    {
     "data": {
      "application/vnd.microsoft.datawrangler.viewer.v0+json": {
       "columns": [
        {
         "name": "index",
         "rawType": "object",
         "type": "string"
        },
        {
         "name": "2020",
         "rawType": "float64",
         "type": "float"
        },
        {
         "name": "2021",
         "rawType": "float64",
         "type": "float"
        },
        {
         "name": "2022",
         "rawType": "float64",
         "type": "float"
        }
       ],
       "ref": "98e837ef-a522-482a-9f3f-7ee1c71e0318",
       "rows": [
        [
         "count",
         "72.0",
         "215.0",
         "278.0"
        ],
        [
         "mean",
         "95813.0",
         "99430.41",
         "123089.1"
        ],
        [
         "std",
         "82831.8",
         "80304.32",
         "59888.93"
        ],
        [
         "min",
         "5707.0",
         "2859.0",
         "10000.0"
        ],
        [
         "25%",
         "45724.5",
         "50000.0",
         "78791.0"
        ],
        [
         "50%",
         "75544.0",
         "82528.0",
         "120000.0"
        ],
        [
         "75%",
         "115526.0",
         "135000.0",
         "160000.0"
        ],
        [
         "max",
         "450000.0",
         "600000.0",
         "405000.0"
        ]
       ],
       "shape": {
        "columns": 3,
        "rows": 8
       }
      },
      "text/html": [
       "<div>\n",
       "<style scoped>\n",
       "    .dataframe tbody tr th:only-of-type {\n",
       "        vertical-align: middle;\n",
       "    }\n",
       "\n",
       "    .dataframe tbody tr th {\n",
       "        vertical-align: top;\n",
       "    }\n",
       "\n",
       "    .dataframe thead th {\n",
       "        text-align: right;\n",
       "    }\n",
       "</style>\n",
       "<table border=\"1\" class=\"dataframe\">\n",
       "  <thead>\n",
       "    <tr style=\"text-align: right;\">\n",
       "      <th>work_year</th>\n",
       "      <th>2020</th>\n",
       "      <th>2021</th>\n",
       "      <th>2022</th>\n",
       "    </tr>\n",
       "  </thead>\n",
       "  <tbody>\n",
       "    <tr>\n",
       "      <th>count</th>\n",
       "      <td>72.0</td>\n",
       "      <td>215.00</td>\n",
       "      <td>278.00</td>\n",
       "    </tr>\n",
       "    <tr>\n",
       "      <th>mean</th>\n",
       "      <td>95813.0</td>\n",
       "      <td>99430.41</td>\n",
       "      <td>123089.10</td>\n",
       "    </tr>\n",
       "    <tr>\n",
       "      <th>std</th>\n",
       "      <td>82831.8</td>\n",
       "      <td>80304.32</td>\n",
       "      <td>59888.93</td>\n",
       "    </tr>\n",
       "    <tr>\n",
       "      <th>min</th>\n",
       "      <td>5707.0</td>\n",
       "      <td>2859.00</td>\n",
       "      <td>10000.00</td>\n",
       "    </tr>\n",
       "    <tr>\n",
       "      <th>25%</th>\n",
       "      <td>45724.5</td>\n",
       "      <td>50000.00</td>\n",
       "      <td>78791.00</td>\n",
       "    </tr>\n",
       "    <tr>\n",
       "      <th>50%</th>\n",
       "      <td>75544.0</td>\n",
       "      <td>82528.00</td>\n",
       "      <td>120000.00</td>\n",
       "    </tr>\n",
       "    <tr>\n",
       "      <th>75%</th>\n",
       "      <td>115526.0</td>\n",
       "      <td>135000.00</td>\n",
       "      <td>160000.00</td>\n",
       "    </tr>\n",
       "    <tr>\n",
       "      <th>max</th>\n",
       "      <td>450000.0</td>\n",
       "      <td>600000.00</td>\n",
       "      <td>405000.00</td>\n",
       "    </tr>\n",
       "  </tbody>\n",
       "</table>\n",
       "</div>"
      ],
      "text/plain": [
       "work_year      2020       2021       2022\n",
       "count          72.0     215.00     278.00\n",
       "mean        95813.0   99430.41  123089.10\n",
       "std         82831.8   80304.32   59888.93\n",
       "min          5707.0    2859.00   10000.00\n",
       "25%         45724.5   50000.00   78791.00\n",
       "50%         75544.0   82528.00  120000.00\n",
       "75%        115526.0  135000.00  160000.00\n",
       "max        450000.0  600000.00  405000.00"
      ]
     },
     "execution_count": 193,
     "metadata": {},
     "output_type": "execute_result"
    }
   ],
   "source": [
    "agg_data_2 =  data.groupby('work_year')['salary_in_usd'].describe().round(2)\n",
    "agg_data_2_transposed = agg_data_2.T\n",
    "agg_data_2_transposed"
   ]
  },
  {
   "cell_type": "markdown",
   "id": "b45f9633",
   "metadata": {},
   "source": [
    "#### **Выводы по визуальному анализу  общего распределения зарплат к годам**\n",
    "\n",
    "#### 1. **Распределение зарплат скошено вправо (положительная асимметрия)**\n",
    "- Средняя зарплата (110 610 USD) выше медианы (100 000 USD), что указывает на асимметрию.\n",
    "- Высокооплачиваемые сотрудники \"тянут\" среднее значение вверх.\n",
    "- Основная масса зарплат сосредоточена между 25% и 75% перцентилями (60 757 – 150 000 USD).\n",
    "\n",
    "---\n",
    "\n",
    "#### 2. **Два пика в распределении**\n",
    "- На графике видны два выраженных пика:\n",
    "  - Около **80 000 USD** \n",
    "  - Около **100 000 USD**\n",
    "- Это показывает разделение на уровни:\n",
    "  - **Middle-специалисты** (~80 000 USD)\n",
    "  - **Senior-специалисты** (~100 000 USD и выше)\n",
    "\n",
    "---\n",
    "\n",
    "#### 3. **Значительный разброс зарплат**\n",
    "- Стандартное отклонение (72 280 USD) действительно велико.\n",
    "- Диапазон от 2 859 USD до 600 000 USD отражает сильную дифференциацию по опыту, специализации и размеру компании.\n",
    "\n",
    "---\n",
    "\n",
    "#### 4. **75% перцентиль (150 000 USD) существенно выше медианы**\n",
    "- Это нормально для скошенного распределения и показывает, что верхние 25% зарплат значительно превышают медиану.\n",
    "- Подтверждает наличие высокооплачиваемой группы специалистов.\n",
    "\n",
    "---\n",
    "#### 5. **Динамика по годам показывает важные тенденции** ✅ **Ваши дополнения верны:**\n",
    "\n",
    "##### **Рост рынка:**\n",
    "- Количество записей с заработной платой увеличивается с годами: **72 (2020) → 215 (2021) → 278 (2022)**\n",
    "- Это свидетельствует о **росте популярности сферы DataScience** и увеличении доступности данных о зарплатах.\n",
    "\n",
    "##### **Стабилизация зарплат:**\n",
    "- **Стандартное отклонение снижается**: 82 832 (2020) → 80 304 (2021) → 59 889 (2022)\n",
    "- Это указывает на **большую предсказуемость и стабильность** зарплатного рынка к 2022 году.\n",
    "\n",
    "##### **Значительный рост оплаты труда в 2022:**\n",
    "- **Медиана выросла на 45%**: 75 544 (2020) → 120 000 (2022)\n",
    "- **Средняя зарплата выросла на 28%**: 95 813 (2020) → 123 089 (2022)\n",
    "- В 2022 году медиана и среднее значение почти сравнялись, что говорит о **более сбалансированном распределении**.\n",
    "\n",
    "##### **Сужение диапазона крайних значений:**\n",
    "- Минимальная зарплата **выросла** с 2 859 USD (2021) до 10 000 USD (2022)\n",
    "- Максимальная зарплата **снизилась** с 600 000 USD (2021) до 405 000 USD (2022)\n",
    "- Это свидетельствует о **сокращении крайних значений** и большей стандартизации зарплат.\n",
    "\n",
    "---\n",
    "\n",
    "#### **Итоговые выводы:**\n",
    "\n",
    "1. **Рынок демонстрирует зрелость**: от большого разброса в 2020-2021 к большей стабильности в 2022 году.\n",
    "\n",
    "2. **Наблюдается значительный рост оплаты труда**: особенно заметный скачок произошел в 2022 году.\n",
    "\n",
    "3. **Структура зарплат становится более прозрачной**: с четким разделением на уровни специалистов.\n",
    "\n",
    "4. **Исчезают экстремально низкие зарплаты**, что может говорить о повышении стандартов отрасли.\n",
    "\n",
    "5. **Данные отражают общемировую тенденцию**: рост спроса на IT-специалистов и увеличение их доходов в пост-пандемийный период.\n",
    "\n",
    "Это типичная картина для развивающегося рынка, который проходит этап становления и стандартизации."
   ]
  },
  {
   "cell_type": "markdown",
   "id": "eb63ea3b",
   "metadata": {},
   "source": [
    "### *4.2 Распределение зарплат по годам для специалистов сферы DataScience*\n"
   ]
  },
  {
   "cell_type": "code",
   "execution_count": 194,
   "id": "ba45f927",
   "metadata": {},
   "outputs": [
    {
     "name": "stderr",
     "output_type": "stream",
     "text": [
      "d:\\idi\\.venv\\lib\\site-packages\\seaborn\\_base.py:1601: UserWarning:\n",
      "\n",
      "Horizontal orientation ignored with only `y` specified.\n",
      "\n",
      "C:\\Users\\Admin\\AppData\\Local\\Temp\\ipykernel_12668\\2940615537.py:24: UserWarning:\n",
      "\n",
      "FigureCanvasAgg is non-interactive, and thus cannot be shown\n",
      "\n"
     ]
    },
    {
     "data": {
      "image/png": "[encoded data removed]",
      "text/plain": [
       "<Figure size 1500x600 with 3 Axes>"
      ]
     },
     "metadata": {},
     "output_type": "display_data"
    }
   ],
   "source": [
    "# Ежегодный рост зарплат для 'Data Scientist'\n",
    "#делаем выботку с \n",
    "data_salary= data[data['job_title']== 'Data Scientist']\n",
    "fig, axes = plt.subplots(1, 3, figsize=(15, 6))\n",
    "sns.histplot(data_salary['salary_in_usd'], kde=True, ax=axes[0])\n",
    "axes[0].set_xlabel('Зарплата в USD')\n",
    "axes[0].set_ylabel('Частота')\n",
    "axes[0].set_title('Распределение зарплат для  DS')\n",
    "axes[0].axvline(data_salary['salary_in_usd'].mean(), color='red', linestyle='--', linewidth=0.8, \n",
    "                label=f'Среднее: {data_salary[\"salary_in_usd\"].mean():.2f}')\n",
    "\n",
    "sns.boxplot(y=data_salary['salary_in_usd'], ax=axes[1] , orient='h', medianprops={\"color\": \"red\", \"linestyle\": '--'})\n",
    "axes[1].set_ylabel('Зарплата (USD)')\n",
    "axes[1].set_xlabel('Частота')\n",
    "axes[1].set_title('Распределение зарплат для DS')\n",
    "\n",
    "sns.boxplot(x='work_year', y='salary_in_usd', data=data_salary,  medianprops={\"color\": \"red\", \"linestyle\": '--'})\n",
    "axes[2].set_title('Распределение зарплат по годам для  DS')\n",
    "axes[2].set_ylabel('Зарплата в USD')\n",
    "axes[2].set_xlabel('Год')\n",
    "plt.suptitle('Распределение зарплат для специалистов Data Scientist', fontsize=16) \n",
    "# Настраиваем отступы между графиками\n",
    "plt.tight_layout()\n",
    "fig.show()\n"
   ]
  },
  {
   "cell_type": "code",
   "execution_count": 195,
   "id": "c8cef769",
   "metadata": {},
   "outputs": [
    {
     "data": {
      "application/vnd.microsoft.datawrangler.viewer.v0+json": {
       "columns": [
        {
         "name": "index",
         "rawType": "object",
         "type": "string"
        },
        {
         "name": "salary_in_usd",
         "rawType": "float64",
         "type": "float"
        }
       ],
       "ref": "50e8c3e2-41aa-4662-994c-5ce7b9217a65",
       "rows": [
        [
         "count",
         "130.0"
        ],
        [
         "mean",
         "103336.35"
        ],
        [
         "std",
         "63967.56"
        ],
        [
         "min",
         "2859.0"
        ],
        [
         "25%",
         "50330.25"
        ],
        [
         "50%",
         "100000.0"
        ],
        [
         "75%",
         "140400.0"
        ],
        [
         "max",
         "412000.0"
        ]
       ],
       "shape": {
        "columns": 1,
        "rows": 8
       }
      },
      "text/html": [
       "<div>\n",
       "<style scoped>\n",
       "    .dataframe tbody tr th:only-of-type {\n",
       "        vertical-align: middle;\n",
       "    }\n",
       "\n",
       "    .dataframe tbody tr th {\n",
       "        vertical-align: top;\n",
       "    }\n",
       "\n",
       "    .dataframe thead th {\n",
       "        text-align: right;\n",
       "    }\n",
       "</style>\n",
       "<table border=\"1\" class=\"dataframe\">\n",
       "  <thead>\n",
       "    <tr style=\"text-align: right;\">\n",
       "      <th></th>\n",
       "      <th>salary_in_usd</th>\n",
       "    </tr>\n",
       "  </thead>\n",
       "  <tbody>\n",
       "    <tr>\n",
       "      <th>count</th>\n",
       "      <td>130.00</td>\n",
       "    </tr>\n",
       "    <tr>\n",
       "      <th>mean</th>\n",
       "      <td>103336.35</td>\n",
       "    </tr>\n",
       "    <tr>\n",
       "      <th>std</th>\n",
       "      <td>63967.56</td>\n",
       "    </tr>\n",
       "    <tr>\n",
       "      <th>min</th>\n",
       "      <td>2859.00</td>\n",
       "    </tr>\n",
       "    <tr>\n",
       "      <th>25%</th>\n",
       "      <td>50330.25</td>\n",
       "    </tr>\n",
       "    <tr>\n",
       "      <th>50%</th>\n",
       "      <td>100000.00</td>\n",
       "    </tr>\n",
       "    <tr>\n",
       "      <th>75%</th>\n",
       "      <td>140400.00</td>\n",
       "    </tr>\n",
       "    <tr>\n",
       "      <th>max</th>\n",
       "      <td>412000.00</td>\n",
       "    </tr>\n",
       "  </tbody>\n",
       "</table>\n",
       "</div>"
      ],
      "text/plain": [
       "       salary_in_usd\n",
       "count         130.00\n",
       "mean       103336.35\n",
       "std         63967.56\n",
       "min          2859.00\n",
       "25%         50330.25\n",
       "50%        100000.00\n",
       "75%        140400.00\n",
       "max        412000.00"
      ]
     },
     "execution_count": 195,
     "metadata": {},
     "output_type": "execute_result"
    }
   ],
   "source": [
    "data_agg_ds= data_salary['salary_in_usd'].describe().round(2).to_frame()\n",
    "data_agg_ds"
   ]
  },
  {
   "cell_type": "code",
   "execution_count": 196,
   "id": "9dc7d592",
   "metadata": {},
   "outputs": [
    {
     "data": {
      "application/vnd.microsoft.datawrangler.viewer.v0+json": {
       "columns": [
        {
         "name": "index",
         "rawType": "object",
         "type": "string"
        },
        {
         "name": "2020",
         "rawType": "float64",
         "type": "float"
        },
        {
         "name": "2021",
         "rawType": "float64",
         "type": "float"
        },
        {
         "name": "2022",
         "rawType": "float64",
         "type": "float"
        }
       ],
       "ref": "75b599be-2d87-4f80-b925-51bc8db1fdeb",
       "rows": [
        [
         "count",
         "21.0",
         "44.0",
         "65.0"
        ],
        [
         "mean",
         "85970.52",
         "70215.77",
         "131366.94"
        ],
        [
         "std",
         "81436.65",
         "45843.82",
         "55785.24"
        ],
        [
         "min",
         "21669.0",
         "2859.0",
         "18442.0"
        ],
        [
         "25%",
         "42197.0",
         "32793.75",
         "95550.0"
        ],
        [
         "50%",
         "62726.0",
         "67233.5",
         "135000.0"
        ],
        [
         "75%",
         "105000.0",
         "100922.75",
         "170000.0"
        ],
        [
         "max",
         "412000.0",
         "165000.0",
         "260000.0"
        ]
       ],
       "shape": {
        "columns": 3,
        "rows": 8
       }
      },
      "text/html": [
       "<div>\n",
       "<style scoped>\n",
       "    .dataframe tbody tr th:only-of-type {\n",
       "        vertical-align: middle;\n",
       "    }\n",
       "\n",
       "    .dataframe tbody tr th {\n",
       "        vertical-align: top;\n",
       "    }\n",
       "\n",
       "    .dataframe thead th {\n",
       "        text-align: right;\n",
       "    }\n",
       "</style>\n",
       "<table border=\"1\" class=\"dataframe\">\n",
       "  <thead>\n",
       "    <tr style=\"text-align: right;\">\n",
       "      <th>work_year</th>\n",
       "      <th>2020</th>\n",
       "      <th>2021</th>\n",
       "      <th>2022</th>\n",
       "    </tr>\n",
       "  </thead>\n",
       "  <tbody>\n",
       "    <tr>\n",
       "      <th>count</th>\n",
       "      <td>21.00</td>\n",
       "      <td>44.00</td>\n",
       "      <td>65.00</td>\n",
       "    </tr>\n",
       "    <tr>\n",
       "      <th>mean</th>\n",
       "      <td>85970.52</td>\n",
       "      <td>70215.77</td>\n",
       "      <td>131366.94</td>\n",
       "    </tr>\n",
       "    <tr>\n",
       "      <th>std</th>\n",
       "      <td>81436.65</td>\n",
       "      <td>45843.82</td>\n",
       "      <td>55785.24</td>\n",
       "    </tr>\n",
       "    <tr>\n",
       "      <th>min</th>\n",
       "      <td>21669.00</td>\n",
       "      <td>2859.00</td>\n",
       "      <td>18442.00</td>\n",
       "    </tr>\n",
       "    <tr>\n",
       "      <th>25%</th>\n",
       "      <td>42197.00</td>\n",
       "      <td>32793.75</td>\n",
       "      <td>95550.00</td>\n",
       "    </tr>\n",
       "    <tr>\n",
       "      <th>50%</th>\n",
       "      <td>62726.00</td>\n",
       "      <td>67233.50</td>\n",
       "      <td>135000.00</td>\n",
       "    </tr>\n",
       "    <tr>\n",
       "      <th>75%</th>\n",
       "      <td>105000.00</td>\n",
       "      <td>100922.75</td>\n",
       "      <td>170000.00</td>\n",
       "    </tr>\n",
       "    <tr>\n",
       "      <th>max</th>\n",
       "      <td>412000.00</td>\n",
       "      <td>165000.00</td>\n",
       "      <td>260000.00</td>\n",
       "    </tr>\n",
       "  </tbody>\n",
       "</table>\n",
       "</div>"
      ],
      "text/plain": [
       "work_year       2020       2021       2022\n",
       "count          21.00      44.00      65.00\n",
       "mean        85970.52   70215.77  131366.94\n",
       "std         81436.65   45843.82   55785.24\n",
       "min         21669.00    2859.00   18442.00\n",
       "25%         42197.00   32793.75   95550.00\n",
       "50%         62726.00   67233.50  135000.00\n",
       "75%        105000.00  100922.75  170000.00\n",
       "max        412000.00  165000.00  260000.00"
      ]
     },
     "execution_count": 196,
     "metadata": {},
     "output_type": "execute_result"
    }
   ],
   "source": [
    "data_agg_2 =  data_salary.groupby('work_year')['salary_in_usd'].describe().round(2)\n",
    "data_agg_2 = data_agg_2.T\n",
    "data_agg_2"
   ]
  },
  {
   "cell_type": "code",
   "execution_count": 197,
   "id": "32c358e4",
   "metadata": {},
   "outputs": [
    {
     "data": {
      "application/vnd.microsoft.datawrangler.viewer.v0+json": {
       "columns": [
        {
         "name": "index",
         "rawType": "object",
         "type": "string"
        },
        {
         "name": "2020",
         "rawType": "float64",
         "type": "float"
        },
        {
         "name": "2021",
         "rawType": "float64",
         "type": "float"
        },
        {
         "name": "2022",
         "rawType": "float64",
         "type": "float"
        }
       ],
       "ref": "b1175e68-186b-4fa9-9edf-44f1e4d989f1",
       "rows": [
        [
         "count",
         "20.0",
         "44.0",
         "65.0"
        ],
        [
         "mean",
         "69669.05",
         "70215.77",
         "131366.94"
        ],
        [
         "std",
         "33268.11",
         "45843.82",
         "55785.24"
        ],
        [
         "min",
         "21669.0",
         "2859.0",
         "18442.0"
        ],
        [
         "25%",
         "41768.0",
         "32793.75",
         "95550.0"
        ],
        [
         "50%",
         "62726.0",
         "67233.5",
         "135000.0"
        ],
        [
         "75%",
         "94677.75",
         "100922.75",
         "170000.0"
        ],
        [
         "max",
         "138350.0",
         "165000.0",
         "260000.0"
        ]
       ],
       "shape": {
        "columns": 3,
        "rows": 8
       }
      },
      "text/html": [
       "<div>\n",
       "<style scoped>\n",
       "    .dataframe tbody tr th:only-of-type {\n",
       "        vertical-align: middle;\n",
       "    }\n",
       "\n",
       "    .dataframe tbody tr th {\n",
       "        vertical-align: top;\n",
       "    }\n",
       "\n",
       "    .dataframe thead th {\n",
       "        text-align: right;\n",
       "    }\n",
       "</style>\n",
       "<table border=\"1\" class=\"dataframe\">\n",
       "  <thead>\n",
       "    <tr style=\"text-align: right;\">\n",
       "      <th>work_year</th>\n",
       "      <th>2020</th>\n",
       "      <th>2021</th>\n",
       "      <th>2022</th>\n",
       "    </tr>\n",
       "  </thead>\n",
       "  <tbody>\n",
       "    <tr>\n",
       "      <th>count</th>\n",
       "      <td>20.00</td>\n",
       "      <td>44.00</td>\n",
       "      <td>65.00</td>\n",
       "    </tr>\n",
       "    <tr>\n",
       "      <th>mean</th>\n",
       "      <td>69669.05</td>\n",
       "      <td>70215.77</td>\n",
       "      <td>131366.94</td>\n",
       "    </tr>\n",
       "    <tr>\n",
       "      <th>std</th>\n",
       "      <td>33268.11</td>\n",
       "      <td>45843.82</td>\n",
       "      <td>55785.24</td>\n",
       "    </tr>\n",
       "    <tr>\n",
       "      <th>min</th>\n",
       "      <td>21669.00</td>\n",
       "      <td>2859.00</td>\n",
       "      <td>18442.00</td>\n",
       "    </tr>\n",
       "    <tr>\n",
       "      <th>25%</th>\n",
       "      <td>41768.00</td>\n",
       "      <td>32793.75</td>\n",
       "      <td>95550.00</td>\n",
       "    </tr>\n",
       "    <tr>\n",
       "      <th>50%</th>\n",
       "      <td>62726.00</td>\n",
       "      <td>67233.50</td>\n",
       "      <td>135000.00</td>\n",
       "    </tr>\n",
       "    <tr>\n",
       "      <th>75%</th>\n",
       "      <td>94677.75</td>\n",
       "      <td>100922.75</td>\n",
       "      <td>170000.00</td>\n",
       "    </tr>\n",
       "    <tr>\n",
       "      <th>max</th>\n",
       "      <td>138350.00</td>\n",
       "      <td>165000.00</td>\n",
       "      <td>260000.00</td>\n",
       "    </tr>\n",
       "  </tbody>\n",
       "</table>\n",
       "</div>"
      ],
      "text/plain": [
       "work_year       2020       2021       2022\n",
       "count          20.00      44.00      65.00\n",
       "mean        69669.05   70215.77  131366.94\n",
       "std         33268.11   45843.82   55785.24\n",
       "min         21669.00    2859.00   18442.00\n",
       "25%         41768.00   32793.75   95550.00\n",
       "50%         62726.00   67233.50  135000.00\n",
       "75%         94677.75  100922.75  170000.00\n",
       "max        138350.00  165000.00  260000.00"
      ]
     },
     "execution_count": 197,
     "metadata": {},
     "output_type": "execute_result"
    }
   ],
   "source": [
    "#посмотрим расспределение без  выбросов, судя  по графику выше,  они начинаются примерно с 280 000\n",
    "data_not_Outliers= data_salary[data_salary['salary_in_usd'] < 280000]\n",
    "data_agg_3 =  data_not_Outliers.groupby('work_year')['salary_in_usd'].describe().round(2)\n",
    "data_agg_3=data_agg_3.T\n",
    "data_agg_3"
   ]
  },
  {
   "cell_type": "markdown",
   "id": "8a7fce59",
   "metadata": {},
   "source": [
    "#### **Выводы по визуальному анализу распределения зарплат по годам**\n",
    "\n",
    "#### 1. **Значительный рост медианной зарплаты в 2022 году**\n",
    "- Данные показывают **взрывной рост медианной зарплаты (более чем в 2 раза)** за два года:\n",
    "    - **2020:** 62 726 USD\n",
    "    - **2021:** 67 233.5 USD\n",
    "    - **2022:** 135 000 USD\n",
    "- Это гораздо более резкий скачок, чем предполагалось ранее, и он указывает на резкое увеличение стоимости специалистов на рынке в 2022 году.\n",
    "\n",
    "#### 2. **Рост среднего значения (mean) подтверждает общий тренд, но с нюансом**\n",
    "- Средняя зарплата также демонстрирует рост, особенно заметный в 2022 году:\n",
    "    - **2020:** 85 970.52 USD\n",
    "    - **2021:** 70 215.77 USD\n",
    "    - **2022:** 131 366.94 USD\n",
    "- **Важное наблюдение:** В 2021 году средняя зарплата была **ниже**, чем в 2020, что могло быть связано с большим количеством новых специалистов на рынке (количество записей выросло с 21 до 44), что временно \"снизило\" планку. Однако к 2022 году рынок скорректировался, и зарплаты резко пошли вверх.\n",
    "\n",
    "#### 3. **Стабилизация рынка и снижение разброса (стандартного отклонения)**\n",
    "- **Стандартное отклонение (std)** существенно снизилось к 2022 году:\n",
    "    - **2020:** 81 436.65 (очень высокий разброс)\n",
    "    - **2021:** 45 843.82 (значительное снижение)\n",
    "    - **2022:** 55 785.24 (умеренный рост на фоне увеличения зарплат, но ниже пика 2020 года)\n",
    "- Это подтверждает ваш вывод о большей предсказуемости рынка. Особенно показательно сравнение 2020 и 2022 годов: при гораздо более высоких зарплатах в 2022 году разброс значений остался ниже.\n",
    "\n",
    "#### 4. **Анализ данных без выбросов (data_agg_3) уточняет картину**\n",
    "- После фильтрации зарплат выше 280 000 USD картина для 2020 года меняется:\n",
    "    - **Среднее значение за 2020 год падает** с 85 970 до 69 669 USD, а **стандартное отклонение резко снижается** с 81 436 до 33 268 USD.\n",
    "    - Это означает, что в 2020 году наличие всего **одной высокой зарплаты (412 000 USD)** сильно искажало общую статистику для небольшой выборки (21 запись). Реальное распределение зарплат среди большинства специалистов в 2020 году было более сконцентрированным и низким.\n",
    "- Для 2021 и 2022 годов фильтрация не изменила статистики (кроме 2021 года, где max стал 165k), что говорит об отсутствии экстремальных выбросов в эти периоды и большей репрезентативности данных.\n",
    "\n",
    "#### 5. **Сужение диапазона зарплат и рост минимального уровня**\n",
    "- **Минимальная зарплата:**\n",
    "    - **2021:** 2 859 USD (аномально низкое значение)\n",
    "    - **2022:** 18 442 USD (более адекватный минимум)\n",
    "- **Максимальная зарплата (без выбросов):**\n",
    "    - **2020:** 138 350 USD\n",
    "    - **2021:** 165 000 USD\n",
    "    - **2022:** 260 000 USD\n",
    "- Это указывает на **повышение \"пола\"** зарплат (исчезновение экстремально низких предложений) и одновременный **рост \"потолка\"** для основной массы специалистов.\n",
    "\n",
    "---\n",
    "\n",
    "#### **Итоговые выводы**\n",
    "\n",
    "1.  **Качественный скачок в 2022 году:** Рынок Data Science совершил резкий рывок в 2022 году, что выразилось в более чем двукратном росте медианной зарплаты по сравнению с 2020-2021 годами. Это говорит о резком повышении спроса и ценности специалистов.\n",
    "\n",
    "2.  **Ранний рынок (2020) был нестабильным:** Данные за 2020 год основаны на малой выборке и сильно искажались единичными экстремальными значениями. Реальный рынок для большинства был скромнее.\n",
    "\n",
    "3.  **Корректировка 2021 года:** Рост количества данных в 2021 году, возможно, отразил приток новых кадров, что временно сдерживало рост средних зарплат, но рынок готовился к скачку.\n",
    "\n",
    "4.  **Зрелость и стандартизация:** Снижение стандартного отклонения и рост минимальных зарплат к 2022 году свидетельствуют о формировании более зрелого, стандартизированного и прозрачного рынка с четкими \"вилками\" для разных уровней специалистов.\n",
    "\n",
    "5.  **Подтверждение тренда:** Несмотря на расхождения в абсолютных цифрах, общая тенденция, описанная вами — **рост, стабилизация и повышение стандартов** — полностью подтверждается данными.\n",
    "\n",
    "\n",
    "\n"
   ]
  },
  {
   "cell_type": "markdown",
   "id": "fb56b1a8",
   "metadata": {},
   "source": [
    "#### **Ответ на 1 вопрос HR-агенства: \"Наблюдается ли ежегодный рост зарплат у специалистов DS\"**\n",
    "Из данных  выше  **нельзя сделать однозначный вывод о ежегодном росте**.\n",
    "\n",
    "Данные показывают: \n",
    "\n",
    "####  **Что говорит против ежегодного роста:**\n",
    "\n",
    "**2020 → 2021: Зарплаты не выросли, а скорее снизились**\n",
    "- Средняя зарплата: 85,971 USD → 70,216 USD (**-18%**)\n",
    "- Медианная зарплата: 62,726 USD → 67,234 USD (**+7%**, но это очень скромно)\n",
    "\n",
    "Это указывает на возможную **коррекцию рынка** в 2021 году после \"перегрева\" 2020 года.\n",
    "\n",
    "#### **Что говорит за общий рост:**\n",
    "\n",
    "**2021 → 2022: Мощный скачок**\n",
    "- Средняя зарплата: 70,216 USD → 131,367 USD (**+87%**)\n",
    "- Медианная зарплата: 67,234 USD → 135,000 USD (**+100%**)\n",
    "\n",
    "#### **Итоговый вывод:**\n",
    "\n",
    "Наблюдается **не линейный ежегодный рост, а двухэтапная динамика**:\n",
    "\n",
    "1. **2020-2021**: Стагнация/коррекция (возможно, из-за притока новых специалистов)\n",
    "2. **2021-2022**: Резкий скачок (удвоение зарплат)\n",
    "\n",
    "\n",
    "Как итог, наблюдается значительный рост зарплат специалистов DS за период 2020-2022 годов, однако этот рост был неравномерным и произошел преимущественно за счет резкого увеличения в 2022 году.\n",
    "\n",
    "Если бы был **ежегодный рост**, мы бы видели последовательное увеличение показателей каждый год, но здесь картина более сложная.\n"
   ]
  },
  {
   "cell_type": "markdown",
   "id": "454bce91",
   "metadata": {},
   "source": [
    "### *4.3 Соотношение зарплаты Data Scientist и Data Engineer за 2022 год*"
   ]
  },
  {
   "cell_type": "code",
   "execution_count": 198,
   "id": "ce8bb3b9",
   "metadata": {},
   "outputs": [
    {
     "data": {
      "image/png": "[encoded data removed]",
      "text/plain": [
       "<Figure size 1000x800 with 2 Axes>"
      ]
     },
     "metadata": {},
     "output_type": "display_data"
    }
   ],
   "source": [
    "\n",
    "# Фильтруем данные: оставляем только Data Scientist и Data Engineer за 2022 год\n",
    "filtered_df = data[((data['job_title'] == 'Data Scientist') | (data['job_title'] == 'Data Engineer')) & (data['work_year'] == 2022)].copy()\n",
    "\n",
    "# Строим графики \n",
    "fig, axes = plt.subplots(1, 2, figsize=(10, 8))  \n",
    "\n",
    "# Первый график - гистограмма распределения зарплат\n",
    "sns.histplot(data=filtered_df, x='salary_in_usd', hue='job_title', \n",
    "             kde=True, ax=axes[0])  \n",
    "axes[0].set_xlabel('Зарплата в USD')\n",
    "axes[0].set_ylabel('Частота')\n",
    "axes[0].set_title('Распределение зарплат для DS и DE')\n",
    "\n",
    "# Добавляем средние значения для каждой профессии\n",
    "mean_ds = filtered_df[filtered_df['job_title'] == 'Data Scientist']['salary_in_usd'].mean()\n",
    "mean_de = filtered_df[filtered_df['job_title'] == 'Data Engineer']['salary_in_usd'].mean()\n",
    "\n",
    "axes[0].axvline(mean_ds, color='blue', linestyle='--', linewidth=0.8, \n",
    "                   label=f'DS Среднее: {mean_ds:.2f}')\n",
    "axes[0].axvline(mean_de, color='orange', linestyle='--', linewidth=0.8, \n",
    "                   label=f'DE Среднее: {mean_de:.2f}')\n",
    "axes[0].legend()\n",
    "\n",
    "# Второй график - boxplot\n",
    "sns.boxplot(data=filtered_df, x='job_title', y='salary_in_usd', ax=axes[1])\n",
    "axes[1].set_xlabel('Должность')\n",
    "axes[1].set_ylabel('Зарплата в USD')\n",
    "axes[1].set_title('Зарплаты по должностям')\n",
    "\n",
    "\n",
    "\n",
    "# Настраиваем отступы между графиками\n",
    "plt.tight_layout()\n",
    "# Показываем график\n",
    "plt.show()\n"
   ]
  },
  {
   "cell_type": "code",
   "execution_count": 199,
   "id": "f81f6a31",
   "metadata": {},
   "outputs": [
    {
     "data": {
      "application/vnd.microsoft.datawrangler.viewer.v0+json": {
       "columns": [
        {
         "name": "index",
         "rawType": "object",
         "type": "string"
        },
        {
         "name": "Data Engineer",
         "rawType": "float64",
         "type": "float"
        },
        {
         "name": "Data Scientist",
         "rawType": "float64",
         "type": "float"
        }
       ],
       "ref": "86aa2775-426c-432a-ad80-3349cfcbf6c0",
       "rows": [
        [
         "count",
         "79.0",
         "65.0"
        ],
        [
         "mean",
         "124651.78",
         "131366.94"
        ],
        [
         "std",
         "57846.84",
         "55785.24"
        ],
        [
         "min",
         "25000.0",
         "18442.0"
        ],
        [
         "25%",
         "78526.0",
         "95550.0"
        ],
        [
         "50%",
         "115000.0",
         "135000.0"
        ],
        [
         "75%",
         "160040.0",
         "170000.0"
        ],
        [
         "max",
         "324000.0",
         "260000.0"
        ]
       ],
       "shape": {
        "columns": 2,
        "rows": 8
       }
      },
      "text/html": [
       "<div>\n",
       "<style scoped>\n",
       "    .dataframe tbody tr th:only-of-type {\n",
       "        vertical-align: middle;\n",
       "    }\n",
       "\n",
       "    .dataframe tbody tr th {\n",
       "        vertical-align: top;\n",
       "    }\n",
       "\n",
       "    .dataframe thead th {\n",
       "        text-align: right;\n",
       "    }\n",
       "</style>\n",
       "<table border=\"1\" class=\"dataframe\">\n",
       "  <thead>\n",
       "    <tr style=\"text-align: right;\">\n",
       "      <th>job_title</th>\n",
       "      <th>Data Engineer</th>\n",
       "      <th>Data Scientist</th>\n",
       "    </tr>\n",
       "  </thead>\n",
       "  <tbody>\n",
       "    <tr>\n",
       "      <th>count</th>\n",
       "      <td>79.00</td>\n",
       "      <td>65.00</td>\n",
       "    </tr>\n",
       "    <tr>\n",
       "      <th>mean</th>\n",
       "      <td>124651.78</td>\n",
       "      <td>131366.94</td>\n",
       "    </tr>\n",
       "    <tr>\n",
       "      <th>std</th>\n",
       "      <td>57846.84</td>\n",
       "      <td>55785.24</td>\n",
       "    </tr>\n",
       "    <tr>\n",
       "      <th>min</th>\n",
       "      <td>25000.00</td>\n",
       "      <td>18442.00</td>\n",
       "    </tr>\n",
       "    <tr>\n",
       "      <th>25%</th>\n",
       "      <td>78526.00</td>\n",
       "      <td>95550.00</td>\n",
       "    </tr>\n",
       "    <tr>\n",
       "      <th>50%</th>\n",
       "      <td>115000.00</td>\n",
       "      <td>135000.00</td>\n",
       "    </tr>\n",
       "    <tr>\n",
       "      <th>75%</th>\n",
       "      <td>160040.00</td>\n",
       "      <td>170000.00</td>\n",
       "    </tr>\n",
       "    <tr>\n",
       "      <th>max</th>\n",
       "      <td>324000.00</td>\n",
       "      <td>260000.00</td>\n",
       "    </tr>\n",
       "  </tbody>\n",
       "</table>\n",
       "</div>"
      ],
      "text/plain": [
       "job_title  Data Engineer  Data Scientist\n",
       "count              79.00           65.00\n",
       "mean           124651.78       131366.94\n",
       "std             57846.84        55785.24\n",
       "min             25000.00        18442.00\n",
       "25%             78526.00        95550.00\n",
       "50%            115000.00       135000.00\n",
       "75%            160040.00       170000.00\n",
       "max            324000.00       260000.00"
      ]
     },
     "execution_count": 199,
     "metadata": {},
     "output_type": "execute_result"
    }
   ],
   "source": [
    "data_agg_4_1 =  filtered_df.groupby('job_title')['salary_in_usd'].describe().round(2)\n",
    "data_agg_4_1 = data_agg_4_1.T\n",
    "data_agg_4_1\n"
   ]
  },
  {
   "cell_type": "code",
   "execution_count": 200,
   "id": "13d78eab",
   "metadata": {},
   "outputs": [
    {
     "data": {
      "application/vnd.microsoft.datawrangler.viewer.v0+json": {
       "columns": [
        {
         "name": "index",
         "rawType": "object",
         "type": "string"
        },
        {
         "name": "Data Engineer",
         "rawType": "float64",
         "type": "float"
        },
        {
         "name": "Data Scientist",
         "rawType": "float64",
         "type": "float"
        }
       ],
       "ref": "4eeeed41-478c-4a58-91e2-842dd2995e9a",
       "rows": [
        [
         "count",
         "78.0",
         "65.0"
        ],
        [
         "mean",
         "122096.04",
         "131366.94"
        ],
        [
         "std",
         "53544.36",
         "55785.24"
        ],
        [
         "min",
         "25000.0",
         "18442.0"
        ],
        [
         "25%",
         "78526.0",
         "95550.0"
        ],
        [
         "50%",
         "114000.0",
         "135000.0"
        ],
        [
         "75%",
         "160000.0",
         "170000.0"
        ],
        [
         "max",
         "243900.0",
         "260000.0"
        ]
       ],
       "shape": {
        "columns": 2,
        "rows": 8
       }
      },
      "text/html": [
       "<div>\n",
       "<style scoped>\n",
       "    .dataframe tbody tr th:only-of-type {\n",
       "        vertical-align: middle;\n",
       "    }\n",
       "\n",
       "    .dataframe tbody tr th {\n",
       "        vertical-align: top;\n",
       "    }\n",
       "\n",
       "    .dataframe thead th {\n",
       "        text-align: right;\n",
       "    }\n",
       "</style>\n",
       "<table border=\"1\" class=\"dataframe\">\n",
       "  <thead>\n",
       "    <tr style=\"text-align: right;\">\n",
       "      <th>job_title</th>\n",
       "      <th>Data Engineer</th>\n",
       "      <th>Data Scientist</th>\n",
       "    </tr>\n",
       "  </thead>\n",
       "  <tbody>\n",
       "    <tr>\n",
       "      <th>count</th>\n",
       "      <td>78.00</td>\n",
       "      <td>65.00</td>\n",
       "    </tr>\n",
       "    <tr>\n",
       "      <th>mean</th>\n",
       "      <td>122096.04</td>\n",
       "      <td>131366.94</td>\n",
       "    </tr>\n",
       "    <tr>\n",
       "      <th>std</th>\n",
       "      <td>53544.36</td>\n",
       "      <td>55785.24</td>\n",
       "    </tr>\n",
       "    <tr>\n",
       "      <th>min</th>\n",
       "      <td>25000.00</td>\n",
       "      <td>18442.00</td>\n",
       "    </tr>\n",
       "    <tr>\n",
       "      <th>25%</th>\n",
       "      <td>78526.00</td>\n",
       "      <td>95550.00</td>\n",
       "    </tr>\n",
       "    <tr>\n",
       "      <th>50%</th>\n",
       "      <td>114000.00</td>\n",
       "      <td>135000.00</td>\n",
       "    </tr>\n",
       "    <tr>\n",
       "      <th>75%</th>\n",
       "      <td>160000.00</td>\n",
       "      <td>170000.00</td>\n",
       "    </tr>\n",
       "    <tr>\n",
       "      <th>max</th>\n",
       "      <td>243900.00</td>\n",
       "      <td>260000.00</td>\n",
       "    </tr>\n",
       "  </tbody>\n",
       "</table>\n",
       "</div>"
      ],
      "text/plain": [
       "job_title  Data Engineer  Data Scientist\n",
       "count              78.00           65.00\n",
       "mean           122096.04       131366.94\n",
       "std             53544.36        55785.24\n",
       "min             25000.00        18442.00\n",
       "25%             78526.00        95550.00\n",
       "50%            114000.00       135000.00\n",
       "75%            160000.00       170000.00\n",
       "max            243900.00       260000.00"
      ]
     },
     "execution_count": 200,
     "metadata": {},
     "output_type": "execute_result"
    }
   ],
   "source": [
    "# если смотреть данные без  выбросов DE\n",
    "noy_Outliers =  filtered_df[filtered_df['salary_in_usd'] < 300000]\n",
    "data_agg_4_2 =  noy_Outliers.groupby('job_title')['salary_in_usd'].describe().round(2)\n",
    "data_agg_4_2 = data_agg_4_2.T\n",
    "data_agg_4_2\n"
   ]
  },
  {
   "cell_type": "markdown",
   "id": "e45b9fe1",
   "metadata": {},
   "source": [
    "\n",
    "#### **Выводы по соотношению зарплат DE и DS в 2022 году не учитывая выбросы**\n",
    "\n",
    "#### 1. **Незначительное лидерство Data Scientist по средней зарплате**\n",
    "- **Data Scientist:** 131 367 USD\n",
    "- **Data Engineer:** 122 096 USD\n",
    "- **Разница:** +7.6% в пользу DS\n",
    "\n",
    "Несмотря на формальное лидерство Data Scientist, разница в средних зарплатах составляет менее 10 000 USD, что указывает на **сравнимый уровень оплаты** этих специалистов.\n",
    "\n",
    "---\n",
    "\n",
    "#### 2. **Более высокие медианные зарплаты у Data Scientist**\n",
    "- **Медиана DS:** 135 000 USD\n",
    "- **Медиана DE:** 114 000 USD  \n",
    "- **Разница:** +18.4% в пользу DS\n",
    "\n",
    "**Ключевой вывод:** Медианная зарплата DS существенно выше. Это означает, что \"типичный\" Data Scientist зарабатывает значительно больше \"типичного\" Data Engineer.\n",
    "\n",
    "---\n",
    "\n",
    "#### 3. **Разное распределение зарплат по квантилям**\n",
    "\n",
    "**Нижний квантиль (25%):**\n",
    "- DS: 95 550 USD\n",
    "- DE: 78 526 USD\n",
    "- **Разница:** +21.7% в пользу DS\n",
    "\n",
    "**Верхний квантиль (75%):**\n",
    "- DS: 170 000 USD\n",
    "- DE: 160 000 USD\n",
    "- **Разница:** +6.25% в пользу DS\n",
    "\n",
    "**Важное наблюдение:** Наибольшая разница в зарплатах наблюдается **на стартовых позициях** (25-й перцентиль). В верхней части вилки (75-й перцентиль) разница минимальна.\n",
    "\n",
    "---\n",
    "\n",
    "#### 4. **Схожий разброс зарплат**\n",
    "- **Стандартное отклонение DS:** 53 785 USD\n",
    "- **Стандартное отклонение DE:** 53 544 USD\n",
    "\n",
    "Практически идентичный разброс указывает на **схожую структуру рынка** для обеих профессий с аналогичной дифференциацией по опыту и квалификации.\n",
    "\n",
    "---\n",
    "\n",
    "#### 5. **Более высокий \"потолок\" зарплат у Data Scientist**\n",
    "- **Максимальная зарплата DS:** 260 000 USD\n",
    "- **Максимальная зарплата DE:** 243 900 USD\n",
    "\n",
    "Data Scientist имеют несколько более высокий потенциал заработка на верхних позициях.\n",
    "\n",
    "---\n",
    "\n",
    "#### **Итоговые выводы:**\n",
    "\n",
    "1. **Data Scientist в среднем получают больше**, особенно на младших и средних позициях (разница в медиане и 25-м перцентиле составляет 18-22%).\n",
    "\n",
    "2. **На высоких позициях разница минимальна** (всего 6% в 75-м перцентиле), что говорит о выравнивании зарплат для senior-специалистов.\n",
    "\n",
    "3. **Обе профессии имеют схожую структуру рынка** с идентичным разбросом зарплат, что указывает на одинаковый уровень дифференциации внутри каждой профессии.\n",
    "\n",
    "4. **Разница в зарплатах не является кардинальной** - оба специалиста находятся в одной весовой категории на рынке труда 2022 года.\n",
    "\n",
    "5. **Более высокие зарплаты DS могут быть связаны** с:\n",
    "   - Большим спросом на ML-специалистов\n",
    "   - Более высокой ответственностью за бизнес-результаты\n",
    "   - Относительной новизной и \"модностью\" профессии\n",
    "\n",
    "\n",
    "#### Ответ на вопрос HR-агенства(Как соотносятся зарплаты для Data Scientist и Data Engineer за 2022 год)**\n",
    "\n",
    " Data Scientist имеют небольшое, но стабильное преимущество в зарплатах, особенно на начальных и средних позициях, однако для senior-уровня разница практически стирается."
   ]
  },
  {
   "cell_type": "markdown",
   "id": "179489b2",
   "metadata": {},
   "source": [
    "### *4.4 Соотношение зарплаты специалистов Data Scientist в компаниях различных размеров*"
   ]
  },
  {
   "cell_type": "code",
   "execution_count": 201,
   "id": "ac465131",
   "metadata": {},
   "outputs": [
    {
     "data": {
      "image/png": "[encoded data removed]",
      "text/plain": [
       "<Figure size 1800x800 with 2 Axes>"
      ]
     },
     "metadata": {},
     "output_type": "display_data"
    }
   ],
   "source": [
    "# Соотношение Data Scientist в компаниях различных размеров\n",
    "data_DS= data[data['job_title']== 'Data Scientist']\n",
    "\n",
    "fig, (ax1, ax2) = plt.subplots(1, 2, figsize=(18, 8))\n",
    "size_order = ['S', 'M', 'L']\n",
    "\n",
    "# Первый график - средние зарплаты\n",
    "size_stats = data_DS.groupby('company_size')['salary_in_usd'].agg(['mean', 'count']).loc[size_order]\n",
    "\n",
    "bars = ax1.bar(size_stats.index, size_stats['mean'])\n",
    "ax1.set(title='Средние зарплаты DS по размеру компании', \n",
    "        ylabel='Средняя зарплата в USD', \n",
    "        xlabel='Размер компании')\n",
    "\n",
    "# Добавляем подписи на столбцы\n",
    "for i, (mean, count) in enumerate(zip(size_stats['mean'], size_stats['count'])):\n",
    "    ax1.text(i, mean + 1000, f'{mean:.0f}\\nn={count}', ha='center', va='bottom')\n",
    "\n",
    "# Второй график - распределение зарплат\n",
    "sns.boxplot(x='company_size', y='salary_in_usd', data=data_DS, order=size_order, ax=ax2)\n",
    "ax2.set(title='Распределение зарплат в компаниях различных размеров',\n",
    "        ylabel='Зарплата в USD', \n",
    "        xlabel='Размер компании')\n",
    "\n",
    "plt.tight_layout()\n",
    "plt.show()"
   ]
  },
  {
   "cell_type": "markdown",
   "id": "87378a8c",
   "metadata": {},
   "source": [
    "#### **Ответ на вопрос HR-агенства:**\n",
    "                Как соотносятся зарплаты специалистов Data Scientist в компаниях различных размеров?\n",
    "\n",
    "\n",
    "#### 1. **Неожиданная закономерность**\n",
    "Средние компании платят Data Scientist больше всех - на 22% больше, чем крупные компании, и в 2.4 раза больше, чем маленькие.\n",
    "\n",
    "#### 2.**Парадокс размера и оплаты**\n",
    "Маленькие компании (S): Низкие зарплаты (ограниченные ресурсы)\n",
    "\n",
    "Средние компании (M): Наивысшие зарплаты (зона максимального роста)\n",
    "\n",
    "Крупные компании (L): Зарплаты ниже средних (возможно, насыщение рынка)\n",
    "\n",
    "#### 3. **Возможные объяснения:**\n",
    "+ Для средних компаний:\n",
    "\n",
    "    - Активная фаза роста и Digital-трансформации\n",
    "\n",
    "    - Острая конкуренция за ограниченных специалистов с крупными компаниями\n",
    "\n",
    "    - Готовы платить премию за таланты, которые могут обеспечить конкурентное преимущество\n",
    "\n",
    "+ Для крупных компаний:\n",
    "\n",
    "    - Устоявшиеся процессы и структуры зарплат\n",
    "\n",
    "    - Больший пул кандидатов, что снижает необходимость в премиальных выплатах\n",
    "\n",
    "    - Возможно, больше focus на стабильности, а не на агрессивном росте\n",
    "\n",
    "+ Для маленьких компаний:\n",
    "\n",
    "    - Ограниченные бюджеты\n",
    "\n",
    "    - Меньшая сложность задач\n",
    "\n",
    "    - Возможно, более низкие требования к опыту"
   ]
  },
  {
   "cell_type": "markdown",
   "id": "47f9f4f3",
   "metadata": {},
   "source": [
    "### *4.5 Наличие связи между должностями Data Scientist и Data Engineer и размером компании*"
   ]
  },
  {
   "cell_type": "code",
   "execution_count": 202,
   "id": "ff863713",
   "metadata": {},
   "outputs": [
    {
     "data": {
      "image/png": "[encoded data removed]",
      "text/plain": [
       "<Figure size 1500x500 with 2 Axes>"
      ]
     },
     "metadata": {},
     "output_type": "display_data"
    }
   ],
   "source": [
    "fig, axes = plt.subplots(1, 2, figsize=(15, 5))\n",
    "\n",
    "# Первый график - countplot по компаниям\n",
    "sns.countplot(data=filtered_df, x='company_size', hue='job_title', ax=axes[0])\n",
    "axes[0].set_xlabel('Размер компании')\n",
    "axes[0].set_ylabel('Количество вакансий')\n",
    "axes[0].set_title('Распределение должностей по размеру компании')\n",
    "axes[0].tick_params(axis='x', rotation=45)  # Поворот подписей если нужно\n",
    "axes[0].legend(title='Должность')\n",
    "\n",
    "# Второй график - boxplot (но нужно указать числовую переменную для y)\n",
    "# Предположим, что у вас есть числовая переменная, например 'salary' или 'experience'\n",
    "sns.boxplot(data=filtered_df, x='job_title', y='salary_in_usd', hue='company_size', ax=axes[1])  # замените 'salary' на вашу числовую переменную\n",
    "axes[1].set_xlabel('Должность')\n",
    "axes[1].set_ylabel('Зарплата')  # или другая метка для числовой переменной\n",
    "axes[1].set_title('Распределение зарплат по должностям и размеру компании')\n",
    "axes[1].tick_params(axis='x', rotation=45)\n",
    "axes[1].legend(title='Размер компании')\n",
    "\n",
    "\n",
    "\n",
    "plt.tight_layout()\n",
    "plt.show()"
   ]
  },
  {
   "cell_type": "code",
   "execution_count": 203,
   "id": "c1286073",
   "metadata": {},
   "outputs": [
    {
     "data": {
      "application/vnd.microsoft.datawrangler.viewer.v0+json": {
       "columns": [
        {
         "name": "index",
         "rawType": "object",
         "type": "string"
        },
        {
         "name": "Data Engineer",
         "rawType": "object",
         "type": "unknown"
        },
        {
         "name": "Data Scientist",
         "rawType": "object",
         "type": "unknown"
        }
       ],
       "ref": "c125d774-19f7-4bec-b333-ae50b075e1d9",
       "rows": [
        [
         "count",
         "79",
         "65"
        ],
        [
         "unique",
         "3",
         "3"
        ],
        [
         "top",
         "M",
         "M"
        ],
        [
         "freq",
         "71",
         "51"
        ]
       ],
       "shape": {
        "columns": 2,
        "rows": 4
       }
      },
      "text/html": [
       "<div>\n",
       "<style scoped>\n",
       "    .dataframe tbody tr th:only-of-type {\n",
       "        vertical-align: middle;\n",
       "    }\n",
       "\n",
       "    .dataframe tbody tr th {\n",
       "        vertical-align: top;\n",
       "    }\n",
       "\n",
       "    .dataframe thead th {\n",
       "        text-align: right;\n",
       "    }\n",
       "</style>\n",
       "<table border=\"1\" class=\"dataframe\">\n",
       "  <thead>\n",
       "    <tr style=\"text-align: right;\">\n",
       "      <th>job_title</th>\n",
       "      <th>Data Engineer</th>\n",
       "      <th>Data Scientist</th>\n",
       "    </tr>\n",
       "  </thead>\n",
       "  <tbody>\n",
       "    <tr>\n",
       "      <th>count</th>\n",
       "      <td>79</td>\n",
       "      <td>65</td>\n",
       "    </tr>\n",
       "    <tr>\n",
       "      <th>unique</th>\n",
       "      <td>3</td>\n",
       "      <td>3</td>\n",
       "    </tr>\n",
       "    <tr>\n",
       "      <th>top</th>\n",
       "      <td>M</td>\n",
       "      <td>M</td>\n",
       "    </tr>\n",
       "    <tr>\n",
       "      <th>freq</th>\n",
       "      <td>71</td>\n",
       "      <td>51</td>\n",
       "    </tr>\n",
       "  </tbody>\n",
       "</table>\n",
       "</div>"
      ],
      "text/plain": [
       "job_title Data Engineer Data Scientist\n",
       "count                79             65\n",
       "unique                3              3\n",
       "top                   M              M\n",
       "freq                 71             51"
      ]
     },
     "execution_count": 203,
     "metadata": {},
     "output_type": "execute_result"
    }
   ],
   "source": [
    "data_agg_5= filtered_df.groupby('job_title')['company_size'].describe().round().T\n",
    "data_agg_5"
   ]
  },
  {
   "cell_type": "markdown",
   "id": "10e3ab03",
   "metadata": {},
   "source": [
    "#### **Выводы по наличию связи должностей Data Scientist и Data Engineer и размером компании**\n",
    "\n",
    "\n",
    "#### 1. **Распределение должностей по размеру компании**\n",
    "- **Data Engineer** и **Data Scientist** представлены в компаниях разного размера, но с явным перекосом:\n",
    "  - **Data Engineer**: подавляющее большинство работает в компаниях **среднего размера (M)** — 71 из 79 человек.\n",
    "  - **Data Scientist**: также преобладают в компаниях среднего размера, но распределение более сбалансировано по сравнению с Data Engineer.\n",
    "\n",
    "- **Вывод**:  \n",
    "  Средние компании активнее нанимают специалистов по данным (особенно Data Engineer), чем маленькие (S) или крупные (L) компании.\n",
    "\n",
    "---\n",
    "\n",
    "#### 2. **Распределение зарплат по должностям и размеру компании**\n",
    "- Зарплаты варьируются в зависимости от должности и размера компании:\n",
    "  - **Data Scientist** в среднем получает больше, чем **Data Engineer**, особенно в крупных компаниях (L).\n",
    "  - В компаниях среднего размера (M) зарплаты ниже, чем в крупных, но выше, чем в маленьких (S).\n",
    "\n",
    "- **Вывод**:  \n",
    "  Крупные компании готовы платить больше за обе должности, но особенно за Data Scientist.  \n",
    "  Средние компании предлагают умеренные зарплаты, но нанимают больше всего специалистов.\n",
    "\n",
    "---\n",
    "\n",
    "- **Вывод**:  \n",
    "  Профессия Data Engineer  и Data Scientist сильно привязаны к среднему бизнесу. Это может быть связано с тем, что такие компании уже выросли до уровня, где нужна инженерная поддержка данных, но ещё не имеют огромных распределённых команд, как в крупных корпорациях.\n",
    "\n",
    "---\n",
    "\n",
    "#### Итоговые наблюдения:\n",
    "- **Средние компании** — основной работодатель для Data Engineer и Data Scientist.\n",
    "- **Крупные компании** платят больше, но нанимают меньше.\n",
    "- **Data Scientist** в среднем имеет более высокую зарплату, особенно в больших компаниях.\n",
    "- **Data Engineer** сильно сконцентрированы в среднем сегменте рынка.\n",
    "\n",
    "#### Ответ на вопрос HR-агенства \n",
    "                Есть ли связь между наличием должностей Data Scientist и Data Engineer и размером компании?\n",
    "\n",
    "**Да, связь между наличием должностей Data Scientist/Data Engineer и размером компании явно прослеживается.**\n",
    "\n",
    "На основе визуального анализа данных можно выделить следующие закономерности:\n",
    "\n",
    "#### 1. **Явная концентрация в средних компаниях**\n",
    "- **71 из 79 Data Engineer** (около 90%) работают в компаниях среднего размера (M)\n",
    "- Data Scientist также наиболее представлены в средних компаниях, хотя распределение более сбалансировано\n",
    "- **Вывод**: средние компании являются основным работодателем для этих специалистов\n",
    "\n",
    "#### 2. **Разный уровень зарплат в зависимости от размера компании**\n",
    "- Крупные компании (L) платят значительно больше обеим должностям\n",
    "- Средние компании (M) предлагают умеренные зарплаты, но нанимают больше всего специалистов\n",
    "- Маленькие компании (S) имеют наименьшее представительство и более низкие зарплаты\n",
    "\n",
    "#### 3. **Причины такой связи**\n",
    "- **Средние компании** уже выросли до уровня, когда нужны отдельные data-специалисты, но еще не имеют разветвленных data-отделов как крупные корпорации\n",
    "- **Крупные компании** могут позволить себе更高的 зарплаты, но нанимают меньше специалистов из-за более строгого отбора\n",
    "- **Маленькие компании** часто не имеют достаточных объемов данных или бюджета для содержания отдельных data-ролей\n",
    "\n",
    "**Таким образом, размер компании является значимым фактором, определяющим как наличие должностей Data Scientist/Data Engineer, так и уровень их оплаты.**\n",
    "\n",
    "    "
   ]
  },
  {
   "cell_type": "markdown",
   "id": "093e691f",
   "metadata": {},
   "source": [
    "### *4.6 Распределение зарплат и опыта к размеру компании для специалистов DS*"
   ]
  },
  {
   "cell_type": "code",
   "execution_count": 204,
   "id": "3294cef6",
   "metadata": {},
   "outputs": [
    {
     "data": {
      "text/plain": [
       "Text(0.5, 1.0, 'Медианные зарплаты (Barplot)')"
      ]
     },
     "execution_count": 204,
     "metadata": {},
     "output_type": "execute_result"
    },
    {
     "data": {
      "image/png": "[encoded data removed]",
      "text/plain": [
       "<Figure size 1600x1000 with 4 Axes>"
      ]
     },
     "metadata": {},
     "output_type": "display_data"
    }
   ],
   "source": [
    "fig, axes = plt.subplots(2, 2, figsize=(16, 10))\n",
    "data_DS= data[data['job_title']== 'Data Scientist']\n",
    "# 1. Violin plot + boxplot\n",
    "sns.violinplot(data=data_DS, x='experience_level', y='salary_in_usd', \n",
    "              hue='company_size', ax=axes[0,0])\n",
    "axes[0,0].set_title('Плотность распределения зарплат')\n",
    "\n",
    "# 2. Pointplot с доверительными интервалами\n",
    "sns.pointplot(data=data_DS, x='experience_level', y='salary_in_usd', \n",
    "             hue='company_size', estimator='median', ax=axes[0,1])\n",
    "axes[0,1].set_title('Медианные зарплаты с доверительными интервалами')\n",
    "\n",
    "# 3. Boxplot\n",
    "sns.boxplot(data=data_DS, x='experience_level', y='salary_in_usd', \n",
    "           hue='company_size', ax=axes[1,0])\n",
    "axes[1,0].set_title('Распределение зарплат (Boxplot)')\n",
    "\n",
    "# 4. Barplot\n",
    "sns.barplot(data=data_DS, x='experience_level', y='salary_in_usd', \n",
    "           hue='company_size', estimator=np.median, ax=axes[1,1])\n",
    "axes[1,1].set_title('Медианные зарплаты (Barplot)')"
   ]
  },
  {
   "cell_type": "code",
   "execution_count": 205,
   "id": "8b3b5d91",
   "metadata": {},
   "outputs": [
    {
     "data": {
      "image/png": "[encoded data removed]",
      "text/plain": [
       "<Figure size 1440x400 with 3 Axes>"
      ]
     },
     "metadata": {},
     "output_type": "display_data"
    }
   ],
   "source": [
    "# FacetGrid для разделения по размеру компании\n",
    "g = sns.FacetGrid(data_DS, col='company_size', height=4, aspect=1.2)\n",
    "g.map(sns.boxplot, 'experience_level', 'salary_in_usd', order=['EN', 'MI', 'SE', 'EX'])\n",
    "g.set_titles('Размер компании: {col_name}')\n",
    "g.set_axis_labels('Уровень опыта', 'Зарплата в USD')\n",
    "plt.tight_layout()"
   ]
  },
  {
   "cell_type": "code",
   "execution_count": 206,
   "id": "67357762",
   "metadata": {},
   "outputs": [
    {
     "data": {
      "text/html": [
       "<style type=\"text/css\">\n",
       "#T_3956b_row0_col0 {\n",
       "  background-color: #dceaf6;\n",
       "  color: #000000;\n",
       "}\n",
       "#T_3956b_row0_col1 {\n",
       "  background-color: #f3f8fe;\n",
       "  color: #000000;\n",
       "}\n",
       "#T_3956b_row0_col2, #T_3956b_row1_col4 {\n",
       "  background-color: #d9e8f5;\n",
       "  color: #000000;\n",
       "}\n",
       "#T_3956b_row0_col3 {\n",
       "  background-color: #dfebf7;\n",
       "  color: #000000;\n",
       "}\n",
       "#T_3956b_row0_col4 {\n",
       "  background-color: #d3e4f3;\n",
       "  color: #000000;\n",
       "}\n",
       "#T_3956b_row0_col5 {\n",
       "  background-color: #f0f6fd;\n",
       "  color: #000000;\n",
       "}\n",
       "#T_3956b_row0_col6, #T_3956b_row0_col7, #T_3956b_row5_col1, #T_3956b_row5_col3, #T_3956b_row5_col4, #T_3956b_row5_col5, #T_3956b_row8_col0, #T_3956b_row8_col2 {\n",
       "  background-color: #f7fbff;\n",
       "  color: #000000;\n",
       "}\n",
       "#T_3956b_row1_col0 {\n",
       "  background-color: #caddf0;\n",
       "  color: #000000;\n",
       "}\n",
       "#T_3956b_row1_col1 {\n",
       "  background-color: #d5e5f4;\n",
       "  color: #000000;\n",
       "}\n",
       "#T_3956b_row1_col2 {\n",
       "  background-color: #9dcae1;\n",
       "  color: #000000;\n",
       "}\n",
       "#T_3956b_row1_col3 {\n",
       "  background-color: #f5f9fe;\n",
       "  color: #000000;\n",
       "}\n",
       "#T_3956b_row1_col5 {\n",
       "  background-color: #dce9f6;\n",
       "  color: #000000;\n",
       "}\n",
       "#T_3956b_row1_col6 {\n",
       "  background-color: #c3daee;\n",
       "  color: #000000;\n",
       "}\n",
       "#T_3956b_row1_col7 {\n",
       "  background-color: #dfecf7;\n",
       "  color: #000000;\n",
       "}\n",
       "#T_3956b_row2_col0 {\n",
       "  background-color: #d6e6f4;\n",
       "  color: #000000;\n",
       "}\n",
       "#T_3956b_row2_col1 {\n",
       "  background-color: #bed8ec;\n",
       "  color: #000000;\n",
       "}\n",
       "#T_3956b_row2_col2 {\n",
       "  background-color: #b2d2e8;\n",
       "  color: #000000;\n",
       "}\n",
       "#T_3956b_row2_col3 {\n",
       "  background-color: #ccdff1;\n",
       "  color: #000000;\n",
       "}\n",
       "#T_3956b_row2_col4 {\n",
       "  background-color: #a4cce3;\n",
       "  color: #000000;\n",
       "}\n",
       "#T_3956b_row2_col5 {\n",
       "  background-color: #c6dbef;\n",
       "  color: #000000;\n",
       "}\n",
       "#T_3956b_row2_col6 {\n",
       "  background-color: #b0d2e7;\n",
       "  color: #000000;\n",
       "}\n",
       "#T_3956b_row2_col7 {\n",
       "  background-color: #ddeaf7;\n",
       "  color: #000000;\n",
       "}\n",
       "#T_3956b_row3_col0 {\n",
       "  background-color: #3787c0;\n",
       "  color: #f1f1f1;\n",
       "}\n",
       "#T_3956b_row3_col1 {\n",
       "  background-color: #8dc1dd;\n",
       "  color: #000000;\n",
       "}\n",
       "#T_3956b_row3_col2 {\n",
       "  background-color: #89bedc;\n",
       "  color: #000000;\n",
       "}\n",
       "#T_3956b_row3_col3 {\n",
       "  background-color: #aacfe5;\n",
       "  color: #000000;\n",
       "}\n",
       "#T_3956b_row3_col4, #T_3956b_row3_col7, #T_3956b_row8_col6 {\n",
       "  background-color: #bad6eb;\n",
       "  color: #000000;\n",
       "}\n",
       "#T_3956b_row3_col5 {\n",
       "  background-color: #84bcdb;\n",
       "  color: #000000;\n",
       "}\n",
       "#T_3956b_row3_col6 {\n",
       "  background-color: #79b5d9;\n",
       "  color: #000000;\n",
       "}\n",
       "#T_3956b_row4_col0 {\n",
       "  background-color: #1d6cb1;\n",
       "  color: #f1f1f1;\n",
       "}\n",
       "#T_3956b_row4_col1 {\n",
       "  background-color: #5ba3d0;\n",
       "  color: #f1f1f1;\n",
       "}\n",
       "#T_3956b_row4_col2 {\n",
       "  background-color: #6fb0d7;\n",
       "  color: #f1f1f1;\n",
       "}\n",
       "#T_3956b_row4_col3 {\n",
       "  background-color: #a1cbe2;\n",
       "  color: #000000;\n",
       "}\n",
       "#T_3956b_row4_col4 {\n",
       "  background-color: #6caed6;\n",
       "  color: #f1f1f1;\n",
       "}\n",
       "#T_3956b_row4_col5 {\n",
       "  background-color: #519ccc;\n",
       "  color: #f1f1f1;\n",
       "}\n",
       "#T_3956b_row4_col6 {\n",
       "  background-color: #56a0ce;\n",
       "  color: #f1f1f1;\n",
       "}\n",
       "#T_3956b_row4_col7 {\n",
       "  background-color: #94c4df;\n",
       "  color: #000000;\n",
       "}\n",
       "#T_3956b_row5_col0 {\n",
       "  background-color: #abd0e6;\n",
       "  color: #000000;\n",
       "}\n",
       "#T_3956b_row5_col2 {\n",
       "  background-color: #bcd7eb;\n",
       "  color: #000000;\n",
       "}\n",
       "#T_3956b_row5_col6 {\n",
       "  background-color: #f4f9fe;\n",
       "  color: #000000;\n",
       "}\n",
       "#T_3956b_row5_col7 {\n",
       "  background-color: #eaf2fb;\n",
       "  color: #000000;\n",
       "}\n",
       "#T_3956b_row6_col0 {\n",
       "  background-color: #87bddc;\n",
       "  color: #000000;\n",
       "}\n",
       "#T_3956b_row6_col1, #T_3956b_row6_col2, #T_3956b_row6_col6, #T_3956b_row6_col7, #T_3956b_row7_col0, #T_3956b_row7_col4, #T_3956b_row7_col5, #T_3956b_row8_col3 {\n",
       "  background-color: #08306b;\n",
       "  color: #f1f1f1;\n",
       "}\n",
       "#T_3956b_row6_col3 {\n",
       "  background-color: #cfe1f2;\n",
       "  color: #000000;\n",
       "}\n",
       "#T_3956b_row6_col4 {\n",
       "  background-color: #084387;\n",
       "  color: #f1f1f1;\n",
       "}\n",
       "#T_3956b_row6_col5 {\n",
       "  background-color: #084285;\n",
       "  color: #f1f1f1;\n",
       "}\n",
       "#T_3956b_row7_col1 {\n",
       "  background-color: #08326e;\n",
       "  color: #f1f1f1;\n",
       "}\n",
       "#T_3956b_row7_col2 {\n",
       "  background-color: #74b3d8;\n",
       "  color: #000000;\n",
       "}\n",
       "#T_3956b_row7_col3 {\n",
       "  background-color: #084f99;\n",
       "  color: #f1f1f1;\n",
       "}\n",
       "#T_3956b_row7_col6 {\n",
       "  background-color: #08478d;\n",
       "  color: #f1f1f1;\n",
       "}\n",
       "#T_3956b_row7_col7 {\n",
       "  background-color: #539ecd;\n",
       "  color: #f1f1f1;\n",
       "}\n",
       "#T_3956b_row8_col1 {\n",
       "  background-color: #7fb9da;\n",
       "  color: #000000;\n",
       "}\n",
       "#T_3956b_row8_col4 {\n",
       "  background-color: #2b7bba;\n",
       "  color: #f1f1f1;\n",
       "}\n",
       "#T_3956b_row8_col5 {\n",
       "  background-color: #71b1d7;\n",
       "  color: #f1f1f1;\n",
       "}\n",
       "#T_3956b_row8_col7 {\n",
       "  background-color: #e4eff9;\n",
       "  color: #000000;\n",
       "}\n",
       "</style>\n",
       "<table id=\"T_3956b\">\n",
       "  <thead>\n",
       "    <tr>\n",
       "      <th class=\"blank\" >&nbsp;</th>\n",
       "      <th class=\"blank level0\" >&nbsp;</th>\n",
       "      <th id=\"T_3956b_level0_col0\" class=\"col_heading level0 col0\" >count</th>\n",
       "      <th id=\"T_3956b_level0_col1\" class=\"col_heading level0 col1\" >mean</th>\n",
       "      <th id=\"T_3956b_level0_col2\" class=\"col_heading level0 col2\" >std</th>\n",
       "      <th id=\"T_3956b_level0_col3\" class=\"col_heading level0 col3\" >min</th>\n",
       "      <th id=\"T_3956b_level0_col4\" class=\"col_heading level0 col4\" >25%</th>\n",
       "      <th id=\"T_3956b_level0_col5\" class=\"col_heading level0 col5\" >50%</th>\n",
       "      <th id=\"T_3956b_level0_col6\" class=\"col_heading level0 col6\" >75%</th>\n",
       "      <th id=\"T_3956b_level0_col7\" class=\"col_heading level0 col7\" >max</th>\n",
       "    </tr>\n",
       "    <tr>\n",
       "      <th class=\"index_name level0\" >experience_level</th>\n",
       "      <th class=\"index_name level1\" >company_size</th>\n",
       "      <th class=\"blank col0\" >&nbsp;</th>\n",
       "      <th class=\"blank col1\" >&nbsp;</th>\n",
       "      <th class=\"blank col2\" >&nbsp;</th>\n",
       "      <th class=\"blank col3\" >&nbsp;</th>\n",
       "      <th class=\"blank col4\" >&nbsp;</th>\n",
       "      <th class=\"blank col5\" >&nbsp;</th>\n",
       "      <th class=\"blank col6\" >&nbsp;</th>\n",
       "      <th class=\"blank col7\" >&nbsp;</th>\n",
       "    </tr>\n",
       "  </thead>\n",
       "  <tbody>\n",
       "    <tr>\n",
       "      <th id=\"T_3956b_level0_row0\" class=\"row_heading level0 row0\" rowspan=\"3\">EN</th>\n",
       "      <th id=\"T_3956b_level1_row0\" class=\"row_heading level1 row0\" >L</th>\n",
       "      <td id=\"T_3956b_row0_col0\" class=\"data row0 col0\" >6.000000</td>\n",
       "      <td id=\"T_3956b_row0_col1\" class=\"data row0 col1\" >$38,365</td>\n",
       "      <td id=\"T_3956b_row0_col2\" class=\"data row0 col2\" >$16,034</td>\n",
       "      <td id=\"T_3956b_row0_col3\" class=\"data row0 col3\" >$13,400</td>\n",
       "      <td id=\"T_3956b_row0_col4\" class=\"data row0 col4\" >31474.000000</td>\n",
       "      <td id=\"T_3956b_row0_col5\" class=\"data row0 col5\" >38321.500000</td>\n",
       "      <td id=\"T_3956b_row0_col6\" class=\"data row0 col6\" >49297.000000</td>\n",
       "      <td id=\"T_3956b_row0_col7\" class=\"data row0 col7\" >$58,000</td>\n",
       "    </tr>\n",
       "    <tr>\n",
       "      <th id=\"T_3956b_level1_row1\" class=\"row_heading level1 row1\" >M</th>\n",
       "      <td id=\"T_3956b_row1_col0\" class=\"data row1 col0\" >9.000000</td>\n",
       "      <td id=\"T_3956b_row1_col1\" class=\"data row1 col1\" >$56,345</td>\n",
       "      <td id=\"T_3956b_row1_col2\" class=\"data row1 col2\" >$36,341</td>\n",
       "      <td id=\"T_3956b_row1_col3\" class=\"data row1 col3\" >$4,000</td>\n",
       "      <td id=\"T_3956b_row1_col4\" class=\"data row1 col4\" >28399.000000</td>\n",
       "      <td id=\"T_3956b_row1_col5\" class=\"data row1 col5\" >49646.000000</td>\n",
       "      <td id=\"T_3956b_row1_col6\" class=\"data row1 col6\" >86703.000000</td>\n",
       "      <td id=\"T_3956b_row1_col7\" class=\"data row1 col7\" >$100,000</td>\n",
       "    </tr>\n",
       "    <tr>\n",
       "      <th id=\"T_3956b_level1_row2\" class=\"row_heading level1 row2\" >S</th>\n",
       "      <td id=\"T_3956b_row2_col0\" class=\"data row2 col0\" >7.000000</td>\n",
       "      <td id=\"T_3956b_row2_col1\" class=\"data row2 col1\" >$68,569</td>\n",
       "      <td id=\"T_3956b_row2_col2\" class=\"data row2 col2\" >$30,763</td>\n",
       "      <td id=\"T_3956b_row2_col3\" class=\"data row2 col3\" >$21,669</td>\n",
       "      <td id=\"T_3956b_row2_col4\" class=\"data row2 col4\" >50294.500000</td>\n",
       "      <td id=\"T_3956b_row2_col5\" class=\"data row2 col5\" >62726.000000</td>\n",
       "      <td id=\"T_3956b_row2_col6\" class=\"data row2 col6\" >95000.000000</td>\n",
       "      <td id=\"T_3956b_row2_col7\" class=\"data row2 col7\" >$105,000</td>\n",
       "    </tr>\n",
       "    <tr>\n",
       "      <th id=\"T_3956b_level0_row3\" class=\"row_heading level0 row3\" rowspan=\"3\">MI</th>\n",
       "      <th id=\"T_3956b_level1_row3\" class=\"row_heading level1 row3\" >L</th>\n",
       "      <td id=\"T_3956b_row3_col0\" class=\"data row3 col0\" >22.000000</td>\n",
       "      <td id=\"T_3956b_row3_col1\" class=\"data row3 col1\" >$85,263</td>\n",
       "      <td id=\"T_3956b_row3_col2\" class=\"data row3 col2\" >$40,580</td>\n",
       "      <td id=\"T_3956b_row3_col3\" class=\"data row3 col3\" >$31,615</td>\n",
       "      <td id=\"T_3956b_row3_col4\" class=\"data row3 col4\" >42860.750000</td>\n",
       "      <td id=\"T_3956b_row3_col5\" class=\"data row3 col5\" >84243.500000</td>\n",
       "      <td id=\"T_3956b_row3_col6\" class=\"data row3 col6\" >116435.500000</td>\n",
       "      <td id=\"T_3956b_row3_col7\" class=\"data row3 col7\" >$160,000</td>\n",
       "    </tr>\n",
       "    <tr>\n",
       "      <th id=\"T_3956b_level1_row4\" class=\"row_heading level1 row4\" >M</th>\n",
       "      <td id=\"T_3956b_row4_col0\" class=\"data row4 col0\" >25.000000</td>\n",
       "      <td id=\"T_3956b_row4_col1\" class=\"data row4 col1\" >$100,973</td>\n",
       "      <td id=\"T_3956b_row4_col2\" class=\"data row4 col2\" >$46,420</td>\n",
       "      <td id=\"T_3956b_row4_col3\" class=\"data row4 col3\" >$33,808</td>\n",
       "      <td id=\"T_3956b_row4_col4\" class=\"data row4 col4\" >65438.000000</td>\n",
       "      <td id=\"T_3956b_row4_col5\" class=\"data row4 col5\" >100000.000000</td>\n",
       "      <td id=\"T_3956b_row4_col6\" class=\"data row4 col6\" >130000.000000</td>\n",
       "      <td id=\"T_3956b_row4_col7\" class=\"data row4 col7\" >$200,000</td>\n",
       "    </tr>\n",
       "    <tr>\n",
       "      <th id=\"T_3956b_level1_row5\" class=\"row_heading level1 row5\" >S</th>\n",
       "      <td id=\"T_3956b_row5_col0\" class=\"data row5 col0\" >12.000000</td>\n",
       "      <td id=\"T_3956b_row5_col1\" class=\"data row5 col1\" >$35,957</td>\n",
       "      <td id=\"T_3956b_row5_col2\" class=\"data row5 col2\" >$27,898</td>\n",
       "      <td id=\"T_3956b_row5_col3\" class=\"data row5 col3\" >$2,859</td>\n",
       "      <td id=\"T_3956b_row5_col4\" class=\"data row5 col4\" >12042.250000</td>\n",
       "      <td id=\"T_3956b_row5_col5\" class=\"data row5 col5\" >33864.500000</td>\n",
       "      <td id=\"T_3956b_row5_col6\" class=\"data row5 col6\" >51681.500000</td>\n",
       "      <td id=\"T_3956b_row5_col7\" class=\"data row5 col7\" >$82,500</td>\n",
       "    </tr>\n",
       "    <tr>\n",
       "      <th id=\"T_3956b_level0_row6\" class=\"row_heading level0 row6\" rowspan=\"3\">SE</th>\n",
       "      <th id=\"T_3956b_level1_row6\" class=\"row_heading level1 row6\" >L</th>\n",
       "      <td id=\"T_3956b_row6_col0\" class=\"data row6 col0\" >15.000000</td>\n",
       "      <td id=\"T_3956b_row6_col1\" class=\"data row6 col1\" >$154,132</td>\n",
       "      <td id=\"T_3956b_row6_col2\" class=\"data row6 col2\" >$91,928</td>\n",
       "      <td id=\"T_3956b_row6_col3\" class=\"data row6 col3\" >$20,171</td>\n",
       "      <td id=\"T_3956b_row6_col4\" class=\"data row6 col4\" >111845.500000</td>\n",
       "      <td id=\"T_3956b_row6_col5\" class=\"data row6 col5\" >140400.000000</td>\n",
       "      <td id=\"T_3956b_row6_col6\" class=\"data row6 col6\" >192650.000000</td>\n",
       "      <td id=\"T_3956b_row6_col7\" class=\"data row6 col7\" >$412,000</td>\n",
       "    </tr>\n",
       "    <tr>\n",
       "      <th id=\"T_3956b_level1_row7\" class=\"row_heading level1 row7\" >M</th>\n",
       "      <td id=\"T_3956b_row7_col0\" class=\"data row7 col0\" >32.000000</td>\n",
       "      <td id=\"T_3956b_row7_col1\" class=\"data row7 col1\" >$152,934</td>\n",
       "      <td id=\"T_3956b_row7_col2\" class=\"data row7 col2\" >$45,392</td>\n",
       "      <td id=\"T_3956b_row7_col3\" class=\"data row7 col3\" >$77,684</td>\n",
       "      <td id=\"T_3956b_row7_col4\" class=\"data row7 col4\" >119567.250000</td>\n",
       "      <td id=\"T_3956b_row7_col5\" class=\"data row7 col5\" >148000.000000</td>\n",
       "      <td id=\"T_3956b_row7_col6\" class=\"data row7 col6\" >180000.000000</td>\n",
       "      <td id=\"T_3956b_row7_col7\" class=\"data row7 col7\" >$260,000</td>\n",
       "    </tr>\n",
       "    <tr>\n",
       "      <th id=\"T_3956b_level1_row8\" class=\"row_heading level1 row8\" >S</th>\n",
       "      <td id=\"T_3956b_row8_col0\" class=\"data row8 col0\" >2.000000</td>\n",
       "      <td id=\"T_3956b_row8_col1\" class=\"data row8 col1\" >$89,488</td>\n",
       "      <td id=\"T_3956b_row8_col2\" class=\"data row8 col2\" >$2,474</td>\n",
       "      <td id=\"T_3956b_row8_col3\" class=\"data row8 col3\" >$87,738</td>\n",
       "      <td id=\"T_3956b_row8_col4\" class=\"data row8 col4\" >88612.750000</td>\n",
       "      <td id=\"T_3956b_row8_col5\" class=\"data row8 col5\" >89487.500000</td>\n",
       "      <td id=\"T_3956b_row8_col6\" class=\"data row8 col6\" >90362.250000</td>\n",
       "      <td id=\"T_3956b_row8_col7\" class=\"data row8 col7\" >$91,237</td>\n",
       "    </tr>\n",
       "  </tbody>\n",
       "</table>\n"
      ],
      "text/plain": [
       "<pandas.io.formats.style.Styler at 0x148aad497b0>"
      ]
     },
     "metadata": {},
     "output_type": "display_data"
    }
   ],
   "source": [
    "# Сводная таблица для наглядности \n",
    "styled_stats = (data_DS.groupby(['experience_level', 'company_size'])['salary_in_usd']\n",
    "                .describe()\n",
    "                .round(2)\n",
    "                .style\n",
    "                .background_gradient(cmap='Blues')\n",
    "                .format({'mean': '${:,.0f}', 'std': '${:,.0f}', 'min': '${:,.0f}', 'max': '${:,.0f}'}))\n",
    "\n",
    "display(styled_stats)"
   ]
  },
  {
   "cell_type": "markdown",
   "id": "00d2013d",
   "metadata": {},
   "source": [
    "#### **На основе Визуального анализа выше, можно сделать следующие ключевые выводы:**\n",
    "1. **Влияние опыта на зарплату (самый сильный фактор)**\n",
    "- **EN → MI**: Средняя зарплата растет в **2-3 раза** (с $38-68k до $86-101k)\n",
    "- **MI → SE**: Рост еще в **1.5-2 раза** (до $152-154k в средних и крупных компаниях)\n",
    "- **Вывод**: Опыт является определяющим фактором оплаты труда\n",
    "\n",
    "\n",
    "2. **Влияние размера компании (неоднозначно)**\n",
    "\n",
    "#### **Для Junior (EN) специалистов**:\n",
    "- **Парадокс**: Маленькие компании (S) платят больше ($68k) vs крупные ($38k)\n",
    "- **Возможная причина**: Маленькие компании могут платить больше за \"универсалов\"\n",
    "\n",
    "#### **Для Middle (MI) специалистов**:\n",
    "- **Классическая картина**: Крупные ($85k) и средние ($101k) платят значительно больше маленьких ($36k)\n",
    "- **Средние компании** даже опережают крупные на MI уровне\n",
    "\n",
    "#### **Для Senior (SE) специалистов**:\n",
    "- **Крупные и средние компании** платят практически одинаково ($154k vs $153k)\n",
    "- **Маленькие компании** сильно отстают ($89k) - не могут конкурировать за топ-специалистов\n",
    "\n",
    "\n",
    "3. **Стабильность оплаты (std - стандартное отклонение)**\n",
    "- **Самый большой разброс** в крупных компаниях на SE уровне ($92k) - широкий диапазон оплаты\n",
    "- **Самый стабильный** - маленькие компании на SE уровне ($2.5k) - фиксированные вилки\n",
    "- **Вывод**: Крупные компании предлагают большую вариативность (возможность высокого заработка)\n",
    "\n",
    "\n",
    "4. **Объем данных (count) - репрезентативность**\n",
    "- **Наибольшее количество наблюдений**: SE в средних компаниях (32) и MI в средних (25)\n",
    "- **Наименьшее**: SE в маленьких компаниях (2) - данные нерепрезентативны\n",
    "- **Вывод**: Наиболее достоверные данные по средним компаниям и MI/SE уровням\n",
    "\n",
    "\n",
    " 5. **Ключевые инсайты для карьеры**:\n",
    "\n",
    "#### **Начинающим (EN)**:\n",
    "- **Неожиданно**: маленькие компании предлагают лучшие условия старта\n",
    "- **Стратегия**: Рассматривать маленькие компании для быстрого старта\n",
    "\n",
    "#### **Развивающимся (MI)**:\n",
    "- **Лучший выбор**: средние компании (максимальная оплата + стабильность)\n",
    "- **Крупные компании**: хорошая альтернатива, но немного ниже оплата\n",
    "\n",
    "#### **Опытным (SE)**:\n",
    "- **Равные условия**: крупные и средние компании конкурируют на одном уровне\n",
    "- **Маленькие компании**: не подходят для карьерного роста в денежном выражении\n",
    "\n",
    " 6. **Рыночные тенденции**:\n",
    "- **Средние компании** активно конкурируют за таланты на всех уровнях\n",
    "- **Крупные компании** доминируют на senior-уровне благодаря бренду и возможностям\n",
    "- **Маленькие компании** проигрывают в конкуренции за опытных специалистов\n",
    "\n",
    "**Итог**: Оптимальная карьерная траектория - старт в маленькой/средней компании, переход в среднюю/крупную на MI уровне, и финальное развитие в крупной/средней на SE позиции."
   ]
  },
  {
   "cell_type": "markdown",
   "id": "51cad2b5",
   "metadata": {},
   "source": [
    "### *4.7 Расспределение зарплат к типу выполнения работы*"
   ]
  },
  {
   "cell_type": "code",
   "execution_count": 207,
   "id": "8e9f3e5d",
   "metadata": {},
   "outputs": [
    {
     "data": {
      "application/vnd.microsoft.datawrangler.viewer.v0+json": {
       "columns": [
        {
         "name": "index",
         "rawType": "int64",
         "type": "integer"
        },
        {
         "name": "work_year",
         "rawType": "int64",
         "type": "integer"
        },
        {
         "name": "experience_level",
         "rawType": "object",
         "type": "string"
        },
        {
         "name": "job_title",
         "rawType": "object",
         "type": "string"
        },
        {
         "name": "salary_in_usd",
         "rawType": "int64",
         "type": "integer"
        },
        {
         "name": "remote_ratio",
         "rawType": "int64",
         "type": "integer"
        },
        {
         "name": "company_location",
         "rawType": "object",
         "type": "string"
        },
        {
         "name": "company_size",
         "rawType": "object",
         "type": "string"
        }
       ],
       "ref": "1d22dbdc-116d-4a14-912c-4088ba71d3ec",
       "rows": [
        [
         "0",
         "2020",
         "MI",
         "Data Scientist",
         "79833",
         "0",
         "DE",
         "L"
        ],
        [
         "1",
         "2020",
         "SE",
         "Machine Learning Scientist",
         "260000",
         "0",
         "JP",
         "S"
        ],
        [
         "2",
         "2020",
         "SE",
         "Big Data Engineer",
         "109024",
         "1",
         "GB",
         "M"
        ],
        [
         "3",
         "2020",
         "MI",
         "Product Data Analyst",
         "20000",
         "0",
         "HN",
         "S"
        ],
        [
         "4",
         "2020",
         "SE",
         "Machine Learning Engineer",
         "150000",
         "1",
         "US",
         "L"
        ],
        [
         "5",
         "2020",
         "EN",
         "Data Analyst",
         "72000",
         "2",
         "US",
         "L"
        ],
        [
         "6",
         "2020",
         "SE",
         "Lead Data Scientist",
         "190000",
         "2",
         "US",
         "S"
        ],
        [
         "7",
         "2020",
         "MI",
         "Data Scientist",
         "35735",
         "1",
         "HU",
         "L"
        ],
        [
         "8",
         "2020",
         "MI",
         "Business Data Analyst",
         "135000",
         "2",
         "US",
         "L"
        ],
        [
         "9",
         "2020",
         "SE",
         "Lead Data Engineer",
         "125000",
         "1",
         "NZ",
         "S"
        ],
        [
         "10",
         "2020",
         "EN",
         "Data Scientist",
         "51321",
         "0",
         "FR",
         "S"
        ],
        [
         "11",
         "2020",
         "MI",
         "Data Scientist",
         "40481",
         "0",
         "IN",
         "L"
        ],
        [
         "12",
         "2020",
         "EN",
         "Data Scientist",
         "39916",
         "0",
         "FR",
         "M"
        ],
        [
         "13",
         "2020",
         "MI",
         "Lead Data Analyst",
         "87000",
         "2",
         "US",
         "L"
        ],
        [
         "14",
         "2020",
         "MI",
         "Data Analyst",
         "85000",
         "2",
         "US",
         "L"
        ],
        [
         "15",
         "2020",
         "MI",
         "Data Analyst",
         "8000",
         "1",
         "PK",
         "L"
        ],
        [
         "16",
         "2020",
         "EN",
         "Data Engineer",
         "41689",
         "2",
         "JP",
         "S"
        ],
        [
         "17",
         "2020",
         "SE",
         "Big Data Engineer",
         "114047",
         "2",
         "GB",
         "S"
        ],
        [
         "18",
         "2020",
         "EN",
         "Data Science Consultant",
         "5707",
         "1",
         "IN",
         "M"
        ],
        [
         "19",
         "2020",
         "MI",
         "Lead Data Engineer",
         "56000",
         "2",
         "US",
         "M"
        ],
        [
         "20",
         "2020",
         "MI",
         "Machine Learning Engineer",
         "43331",
         "0",
         "CN",
         "M"
        ],
        [
         "21",
         "2020",
         "MI",
         "Product Data Analyst",
         "6072",
         "2",
         "IN",
         "L"
        ],
        [
         "22",
         "2020",
         "SE",
         "Data Engineer",
         "47899",
         "1",
         "GR",
         "L"
        ],
        [
         "23",
         "2020",
         "MI",
         "BI Data Analyst",
         "98000",
         "0",
         "US",
         "M"
        ],
        [
         "24",
         "2020",
         "MI",
         "Lead Data Scientist",
         "115000",
         "0",
         "AE",
         "L"
        ],
        [
         "25",
         "2020",
         "EX",
         "Director of Data Science",
         "325000",
         "2",
         "US",
         "L"
        ],
        [
         "26",
         "2020",
         "EN",
         "Research Scientist",
         "42000",
         "1",
         "NL",
         "L"
        ],
        [
         "27",
         "2020",
         "SE",
         "Data Engineer",
         "33511",
         "0",
         "MX",
         "S"
        ],
        [
         "28",
         "2020",
         "EN",
         "Business Data Analyst",
         "100000",
         "2",
         "US",
         "L"
        ],
        [
         "29",
         "2020",
         "SE",
         "Machine Learning Manager",
         "117104",
         "1",
         "CA",
         "L"
        ],
        [
         "30",
         "2020",
         "MI",
         "Data Engineering Manager",
         "59303",
         "2",
         "DE",
         "S"
        ],
        [
         "31",
         "2020",
         "EN",
         "Big Data Engineer",
         "70000",
         "2",
         "US",
         "L"
        ],
        [
         "32",
         "2020",
         "SE",
         "Data Scientist",
         "68428",
         "2",
         "US",
         "L"
        ],
        [
         "33",
         "2020",
         "MI",
         "Research Scientist",
         "450000",
         "0",
         "US",
         "M"
        ],
        [
         "34",
         "2020",
         "MI",
         "Data Analyst",
         "46759",
         "1",
         "FR",
         "L"
        ],
        [
         "35",
         "2020",
         "MI",
         "Data Engineer",
         "74130",
         "1",
         "AT",
         "L"
        ],
        [
         "36",
         "2020",
         "MI",
         "Data Science Consultant",
         "103000",
         "2",
         "US",
         "L"
        ],
        [
         "37",
         "2020",
         "EN",
         "Machine Learning Engineer",
         "250000",
         "1",
         "US",
         "L"
        ],
        [
         "38",
         "2020",
         "EN",
         "Data Analyst",
         "10000",
         "2",
         "NG",
         "S"
        ],
        [
         "39",
         "2020",
         "EN",
         "Machine Learning Engineer",
         "138000",
         "2",
         "US",
         "S"
        ],
        [
         "40",
         "2020",
         "MI",
         "Data Scientist",
         "45760",
         "2",
         "US",
         "S"
        ],
        [
         "41",
         "2020",
         "EX",
         "Data Engineering Manager",
         "79833",
         "1",
         "ES",
         "L"
        ],
        [
         "42",
         "2020",
         "MI",
         "Machine Learning Infrastructure Engineer",
         "50180",
         "0",
         "PT",
         "M"
        ],
        [
         "43",
         "2020",
         "MI",
         "Data Engineer",
         "106000",
         "2",
         "US",
         "L"
        ],
        [
         "44",
         "2020",
         "MI",
         "Data Engineer",
         "112872",
         "1",
         "GB",
         "L"
        ],
        [
         "45",
         "2020",
         "EN",
         "ML Engineer",
         "15966",
         "2",
         "DE",
         "S"
        ],
        [
         "46",
         "2020",
         "MI",
         "Data Scientist",
         "76958",
         "2",
         "GB",
         "S"
        ],
        [
         "47",
         "2020",
         "SE",
         "Data Engineer",
         "188000",
         "2",
         "US",
         "L"
        ],
        [
         "48",
         "2020",
         "MI",
         "Data Scientist",
         "105000",
         "2",
         "US",
         "L"
        ],
        [
         "49",
         "2020",
         "MI",
         "Data Engineer",
         "70139",
         "1",
         "FR",
         "L"
        ]
       ],
       "shape": {
        "columns": 7,
        "rows": 565
       }
      },
      "text/html": [
       "<div>\n",
       "<style scoped>\n",
       "    .dataframe tbody tr th:only-of-type {\n",
       "        vertical-align: middle;\n",
       "    }\n",
       "\n",
       "    .dataframe tbody tr th {\n",
       "        vertical-align: top;\n",
       "    }\n",
       "\n",
       "    .dataframe thead th {\n",
       "        text-align: right;\n",
       "    }\n",
       "</style>\n",
       "<table border=\"1\" class=\"dataframe\">\n",
       "  <thead>\n",
       "    <tr style=\"text-align: right;\">\n",
       "      <th></th>\n",
       "      <th>work_year</th>\n",
       "      <th>experience_level</th>\n",
       "      <th>job_title</th>\n",
       "      <th>salary_in_usd</th>\n",
       "      <th>remote_ratio</th>\n",
       "      <th>company_location</th>\n",
       "      <th>company_size</th>\n",
       "    </tr>\n",
       "  </thead>\n",
       "  <tbody>\n",
       "    <tr>\n",
       "      <th>0</th>\n",
       "      <td>2020</td>\n",
       "      <td>MI</td>\n",
       "      <td>Data Scientist</td>\n",
       "      <td>79833</td>\n",
       "      <td>0</td>\n",
       "      <td>DE</td>\n",
       "      <td>L</td>\n",
       "    </tr>\n",
       "    <tr>\n",
       "      <th>1</th>\n",
       "      <td>2020</td>\n",
       "      <td>SE</td>\n",
       "      <td>Machine Learning Scientist</td>\n",
       "      <td>260000</td>\n",
       "      <td>0</td>\n",
       "      <td>JP</td>\n",
       "      <td>S</td>\n",
       "    </tr>\n",
       "    <tr>\n",
       "      <th>2</th>\n",
       "      <td>2020</td>\n",
       "      <td>SE</td>\n",
       "      <td>Big Data Engineer</td>\n",
       "      <td>109024</td>\n",
       "      <td>1</td>\n",
       "      <td>GB</td>\n",
       "      <td>M</td>\n",
       "    </tr>\n",
       "    <tr>\n",
       "      <th>3</th>\n",
       "      <td>2020</td>\n",
       "      <td>MI</td>\n",
       "      <td>Product Data Analyst</td>\n",
       "      <td>20000</td>\n",
       "      <td>0</td>\n",
       "      <td>HN</td>\n",
       "      <td>S</td>\n",
       "    </tr>\n",
       "    <tr>\n",
       "      <th>4</th>\n",
       "      <td>2020</td>\n",
       "      <td>SE</td>\n",
       "      <td>Machine Learning Engineer</td>\n",
       "      <td>150000</td>\n",
       "      <td>1</td>\n",
       "      <td>US</td>\n",
       "      <td>L</td>\n",
       "    </tr>\n",
       "    <tr>\n",
       "      <th>...</th>\n",
       "      <td>...</td>\n",
       "      <td>...</td>\n",
       "      <td>...</td>\n",
       "      <td>...</td>\n",
       "      <td>...</td>\n",
       "      <td>...</td>\n",
       "      <td>...</td>\n",
       "    </tr>\n",
       "    <tr>\n",
       "      <th>602</th>\n",
       "      <td>2022</td>\n",
       "      <td>SE</td>\n",
       "      <td>Data Engineer</td>\n",
       "      <td>154000</td>\n",
       "      <td>2</td>\n",
       "      <td>US</td>\n",
       "      <td>M</td>\n",
       "    </tr>\n",
       "    <tr>\n",
       "      <th>603</th>\n",
       "      <td>2022</td>\n",
       "      <td>SE</td>\n",
       "      <td>Data Engineer</td>\n",
       "      <td>126000</td>\n",
       "      <td>2</td>\n",
       "      <td>US</td>\n",
       "      <td>M</td>\n",
       "    </tr>\n",
       "    <tr>\n",
       "      <th>604</th>\n",
       "      <td>2022</td>\n",
       "      <td>SE</td>\n",
       "      <td>Data Analyst</td>\n",
       "      <td>129000</td>\n",
       "      <td>0</td>\n",
       "      <td>US</td>\n",
       "      <td>M</td>\n",
       "    </tr>\n",
       "    <tr>\n",
       "      <th>605</th>\n",
       "      <td>2022</td>\n",
       "      <td>SE</td>\n",
       "      <td>Data Analyst</td>\n",
       "      <td>150000</td>\n",
       "      <td>2</td>\n",
       "      <td>US</td>\n",
       "      <td>M</td>\n",
       "    </tr>\n",
       "    <tr>\n",
       "      <th>606</th>\n",
       "      <td>2022</td>\n",
       "      <td>MI</td>\n",
       "      <td>AI Scientist</td>\n",
       "      <td>200000</td>\n",
       "      <td>2</td>\n",
       "      <td>US</td>\n",
       "      <td>L</td>\n",
       "    </tr>\n",
       "  </tbody>\n",
       "</table>\n",
       "<p>565 rows × 7 columns</p>\n",
       "</div>"
      ],
      "text/plain": [
       "     work_year experience_level                   job_title  salary_in_usd  \\\n",
       "0         2020               MI              Data Scientist          79833   \n",
       "1         2020               SE  Machine Learning Scientist         260000   \n",
       "2         2020               SE           Big Data Engineer         109024   \n",
       "3         2020               MI        Product Data Analyst          20000   \n",
       "4         2020               SE   Machine Learning Engineer         150000   \n",
       "..         ...              ...                         ...            ...   \n",
       "602       2022               SE               Data Engineer         154000   \n",
       "603       2022               SE               Data Engineer         126000   \n",
       "604       2022               SE                Data Analyst         129000   \n",
       "605       2022               SE                Data Analyst         150000   \n",
       "606       2022               MI                AI Scientist         200000   \n",
       "\n",
       "     remote_ratio company_location company_size  \n",
       "0               0               DE            L  \n",
       "1               0               JP            S  \n",
       "2               1               GB            M  \n",
       "3               0               HN            S  \n",
       "4               1               US            L  \n",
       "..            ...              ...          ...  \n",
       "602             2               US            M  \n",
       "603             2               US            M  \n",
       "604             0               US            M  \n",
       "605             2               US            M  \n",
       "606             2               US            L  \n",
       "\n",
       "[565 rows x 7 columns]"
      ]
     },
     "execution_count": 207,
     "metadata": {},
     "output_type": "execute_result"
    }
   ],
   "source": [
    "# Преобразование категориальных переменных в числовые \n",
    "df_numeric = data.copy()\n",
    "cat_columns = ['remote_ratio']\n",
    "for col in cat_columns:\n",
    "    df_numeric[col] = pd.factorize(df_numeric[col])[0]\n",
    "    \n",
    "df_numeric"
   ]
  },
  {
   "cell_type": "code",
   "execution_count": 208,
   "id": "243954df",
   "metadata": {},
   "outputs": [
    {
     "name": "stderr",
     "output_type": "stream",
     "text": [
      "C:\\Users\\Admin\\AppData\\Local\\Temp\\ipykernel_12668\\1875446767.py:16: UserWarning:\n",
      "\n",
      "set_ticklabels() should only be used with a fixed number of ticks, i.e. after set_ticks() or using a FixedLocator.\n",
      "\n",
      "C:\\Users\\Admin\\AppData\\Local\\Temp\\ipykernel_12668\\1875446767.py:23: UserWarning:\n",
      "\n",
      "set_ticklabels() should only be used with a fixed number of ticks, i.e. after set_ticks() or using a FixedLocator.\n",
      "\n"
     ]
    },
    {
     "data": {
      "image/png": "[encoded data removed]",
      "text/plain": [
       "<Figure size 1500x800 with 2 Axes>"
      ]
     },
     "metadata": {},
     "output_type": "display_data"
    },
    {
     "data": {
      "text/html": [
       "<style type=\"text/css\">\n",
       "</style>\n",
       "<table id=\"T_89590\">\n",
       "  <thead>\n",
       "    <tr>\n",
       "      <th class=\"blank level0\" >&nbsp;</th>\n",
       "      <th id=\"T_89590_level0_col0\" class=\"col_heading level0 col0\" >count</th>\n",
       "      <th id=\"T_89590_level0_col1\" class=\"col_heading level0 col1\" >mean</th>\n",
       "      <th id=\"T_89590_level0_col2\" class=\"col_heading level0 col2\" >std</th>\n",
       "      <th id=\"T_89590_level0_col3\" class=\"col_heading level0 col3\" >min</th>\n",
       "      <th id=\"T_89590_level0_col4\" class=\"col_heading level0 col4\" >25%</th>\n",
       "      <th id=\"T_89590_level0_col5\" class=\"col_heading level0 col5\" >50%</th>\n",
       "      <th id=\"T_89590_level0_col6\" class=\"col_heading level0 col6\" >75%</th>\n",
       "      <th id=\"T_89590_level0_col7\" class=\"col_heading level0 col7\" >max</th>\n",
       "    </tr>\n",
       "    <tr>\n",
       "      <th class=\"index_name level0\" >remote_ratio</th>\n",
       "      <th class=\"blank col0\" >&nbsp;</th>\n",
       "      <th class=\"blank col1\" >&nbsp;</th>\n",
       "      <th class=\"blank col2\" >&nbsp;</th>\n",
       "      <th class=\"blank col3\" >&nbsp;</th>\n",
       "      <th class=\"blank col4\" >&nbsp;</th>\n",
       "      <th class=\"blank col5\" >&nbsp;</th>\n",
       "      <th class=\"blank col6\" >&nbsp;</th>\n",
       "      <th class=\"blank col7\" >&nbsp;</th>\n",
       "    </tr>\n",
       "  </thead>\n",
       "  <tbody>\n",
       "    <tr>\n",
       "      <th id=\"T_89590_level0_row0\" class=\"row_heading level0 row0\" >0</th>\n",
       "      <td id=\"T_89590_row0_col0\" class=\"data row0 col0\" >38</td>\n",
       "      <td id=\"T_89590_row0_col1\" class=\"data row0 col1\" >98,445</td>\n",
       "      <td id=\"T_89590_row0_col2\" class=\"data row0 col2\" >58,648</td>\n",
       "      <td id=\"T_89590_row0_col3\" class=\"data row0 col3\" >2,859</td>\n",
       "      <td id=\"T_89590_row0_col4\" class=\"data row0 col4\" >49,781</td>\n",
       "      <td id=\"T_89590_row0_col5\" class=\"data row0 col5\" >93,582</td>\n",
       "      <td id=\"T_89590_row0_col6\" class=\"data row0 col6\" >139,050</td>\n",
       "      <td id=\"T_89590_row0_col7\" class=\"data row0 col7\" >215,300</td>\n",
       "    </tr>\n",
       "    <tr>\n",
       "      <th id=\"T_89590_level0_row1\" class=\"row_heading level0 row1\" >1</th>\n",
       "      <td id=\"T_89590_row1_col0\" class=\"data row1 col0\" >24</td>\n",
       "      <td id=\"T_89590_row1_col1\" class=\"data row1 col1\" >73,828</td>\n",
       "      <td id=\"T_89590_row1_col2\" class=\"data row1 col2\" >36,204</td>\n",
       "      <td id=\"T_89590_row1_col3\" class=\"data row1 col3\" >20,171</td>\n",
       "      <td id=\"T_89590_row1_col4\" class=\"data row1 col4\" >47,784</td>\n",
       "      <td id=\"T_89590_row1_col5\" class=\"data row1 col5\" >62,726</td>\n",
       "      <td id=\"T_89590_row1_col6\" class=\"data row1 col6\" >102,250</td>\n",
       "      <td id=\"T_89590_row1_col7\" class=\"data row1 col7\" >147,000</td>\n",
       "    </tr>\n",
       "    <tr>\n",
       "      <th id=\"T_89590_level0_row2\" class=\"row_heading level0 row2\" >2</th>\n",
       "      <td id=\"T_89590_row2_col0\" class=\"data row2 col0\" >68</td>\n",
       "      <td id=\"T_89590_row2_col1\" class=\"data row2 col1\" >116,485</td>\n",
       "      <td id=\"T_89590_row2_col2\" class=\"data row2 col2\" >70,908</td>\n",
       "      <td id=\"T_89590_row2_col3\" class=\"data row2 col3\" >5,679</td>\n",
       "      <td id=\"T_89590_row2_col4\" class=\"data row2 col4\" >64,420</td>\n",
       "      <td id=\"T_89590_row2_col5\" class=\"data row2 col5\" >111,500</td>\n",
       "      <td id=\"T_89590_row2_col6\" class=\"data row2 col6\" >160,000</td>\n",
       "      <td id=\"T_89590_row2_col7\" class=\"data row2 col7\" >412,000</td>\n",
       "    </tr>\n",
       "  </tbody>\n",
       "</table>\n"
      ],
      "text/plain": [
       "<pandas.io.formats.style.Styler at 0x148a9ddaa10>"
      ]
     },
     "metadata": {},
     "output_type": "display_data"
    }
   ],
   "source": [
    "# Распределение зарплат по типу выполнения работы:\n",
    "# 0 — удалённой работы нет (менее 20 %);\n",
    "# 1 — частично удалённая работа;\n",
    "# 2 — полностью удалённая работа (более 80 %).\n",
    "df_numeric= df_numeric[df_numeric['job_title']== 'Data Scientist']\n",
    "fig, axes = plt.subplots(1, 2, figsize=(15, 8))\n",
    "\n",
    "# Первый график - boxplot для сравнения распределений\n",
    "sns.boxplot(data=df_numeric, x='remote_ratio', y='salary_in_usd', ax=axes[0])\n",
    "axes[0].set_title('Распределение зарплат по типу удаленной работы')\n",
    "axes[0].set_xlabel('Тип удаленной работы')\n",
    "axes[0].set_ylabel('Зарплата (USD)')\n",
    "\n",
    "# Устанавливаем подписи для осей X\n",
    "remote_labels = {0: 'Нет удаленной работы', 1: 'Частично удаленная', 2: 'Полностью удаленная'}\n",
    "axes[0].set_xticklabels([remote_labels[int(x.get_text())] for x in axes[0].get_xticklabels()])\n",
    "\n",
    "# Второй график - violin plot для более детального распределения\n",
    "sns.violinplot(data=df_numeric, x='remote_ratio', y='salary_in_usd', ax=axes[1])\n",
    "axes[1].set_title('Плотность распределения зарплат')\n",
    "axes[1].set_xlabel('Тип удаленной работы')\n",
    "axes[1].set_ylabel('Зарплата (USD)')\n",
    "axes[1].set_xticklabels([remote_labels[int(x.get_text())] for x in axes[1].get_xticklabels()])\n",
    "\n",
    "plt.tight_layout()\n",
    "plt.show()\n",
    "# статистические данные\n",
    "styled_stats = (df_numeric.groupby('remote_ratio')['salary_in_usd']\n",
    "                .describe()\n",
    "                .round(0)\n",
    "                .style\n",
    "                .format('{:,.0f}'))\n",
    "\n",
    "display(styled_stats)\n",
    "\n"
   ]
  },
  {
   "cell_type": "markdown",
   "id": "3a64e3f4",
   "metadata": {},
   "source": [
    "#### Основные выводы:\n",
    "\n",
    " 1. **Полностью удаленная работа оплачивается выше**\n",
    "- Средняя зарплата: **$116,485** (самая высокая)\n",
    "- Медианная зарплата: **$111,500**\n",
    "- Максимальная зарплата достигает **$412,000**\n",
    "\n",
    " 2. **Работа без удаленного формата имеет стабильные показатели**\n",
    "- Средняя зарплата: **$98,445**\n",
    "- Медианная зарплата: **$93,582**\n",
    "- Наименьший разброс данных (std = $58,648)\n",
    "\n",
    "3. **Частично удаленная работа имеет самую низкую оплату**\n",
    "- Средняя зарплата: **$73,828** (на 25% ниже полностью удаленной)\n",
    "- Медианная зарплата: **$62,726**\n",
    "- Наименьшее количество наблюдений (n=24)\n",
    "\n",
    "4. **Распределение зарплат показывает интересные тенденции**\n",
    "- **Полностью удаленные** работники имеют наибольший разброс зарплат (std = $70,908)\n",
    "- **Без удаленки** - наиболее стабильный и предсказуемый доход\n",
    "- **Частично удаленные** позиции могут быть менее квалифицированными или младшими\n",
    "\n",
    "#### Возможные причины:\n",
    "- Полностью удаленные позиции требуют высокой самодисциплины и могут быть более senior-уровня\n",
    "- Компании экономят на office space и могут перераспределять средства в зарплаты\n",
    "- Глобальный рынок труда для удаленных работников более конкурентный"
   ]
  },
  {
   "cell_type": "markdown",
   "id": "a42800be",
   "metadata": {},
   "source": [
    "## 5. Статистический анализ"
   ]
  },
  {
   "cell_type": "markdown",
   "id": "5a736c9e",
   "metadata": {},
   "source": [
    "\n",
    "**Категориальные:**\n",
    "- experience_level   (4) опыт работы \n",
    "- job_title         (50) - должность \n",
    "- company_location  (50) - местоположение компании\n",
    "- company_size      (3) -  - размер компании \n",
    "\n",
    "**Количественные:**\n",
    "- work_year         (3)   - год работы  \n",
    "- salary_in_usd     (369)   - зарплата в $\n",
    "- remote_ratio      (3)   -  формат работы \n",
    "\n",
    "\n",
    "\n"
   ]
  },
  {
   "cell_type": "markdown",
   "id": "8828061c",
   "metadata": {},
   "source": [
    "### *5.1 Наблюдается ли ежегодный рост зарплат у специалистов Data Scientist?*\n",
    "\n",
    "\n",
    "\n"
   ]
  },
  {
   "cell_type": "markdown",
   "id": "f156535f",
   "metadata": {},
   "source": [
    "        - тип признаков- количесвенный\n",
    "        - группы независимы\n",
    "        - сравниваемых  группы - 3 \n",
    "**Общая гипотеза**\n",
    "\n",
    "*Нулевая гипотеза (H₀)*:  Средние (или медианные) зарплаты специалистов Data Science не различаются между 2020, 2021 и 2022 годами. \n",
    "\n",
    "*Альтернативная гипотеза (H₁)*: Средняя зарплата зарплаты специалистов Data Science  различаются между 2020, 2021 и 2022 годами.\n",
    "\n",
    "\n",
    "**Гипотезы для попарных сравнений (Манна-Уитни)**\n",
    "\n",
    "*Для сравнения 2020 vs 2021:*\n",
    "\n",
    "- Нулевая гипотеза (H₀): Медианная зарплата в 2020 году равна или больше медианной зарплаты в 2021 году.\n",
    "- Альтернативная гипотеза (H₁): Медианная зарплата в 2020 году меньше медианной зарплаты в 2021 году (односторонняя).\n",
    "\n",
    "*Для сравнения 2021 vs 2022:*\n",
    "- Нулевая гипотеза (H₀): Медианная зарплата в 2021 году равна или больше медианной зарплаты в 2022 году.\n",
    "- Альтернативная гипотеза (H₁): Медианная зарплата в 2021 году меньше медианной зарплаты в 2022 году.\n",
    "\n",
    "*Итоговая гипотеза о ежегодном росте*\n",
    "- Нулевая гипотеза (H₀): Ежегодного роста зарплат не наблюдается.\n",
    "- Альтернативная гипотеза (H₁): Наблюдается статистически значимый ежегодный рост зарплат.\n",
    "\n"
   ]
  },
  {
   "cell_type": "markdown",
   "id": "5b883546",
   "metadata": {},
   "source": [
    "#### **Проверка на нормальность** \n",
    " \n",
    " "
   ]
  },
  {
   "cell_type": "code",
   "execution_count": 209,
   "id": "7fbea91f",
   "metadata": {},
   "outputs": [
    {
     "name": "stdout",
     "output_type": "stream",
     "text": [
      "Для 2020:\n",
      "p-value = 0.000\n",
      "p-значение меньше, чем заданный уровень значимости 0.05. Распределение отлично от нормального\n",
      "Для 2020:\n",
      "p-value = 0.000\n",
      "p-значение меньше, чем заданный уровень значимости 0.05. Распределение отлично от нормального\n",
      "Для 2020:\n",
      "p-value = 0.000\n",
      "p-значение меньше, чем заданный уровень значимости 0.05. Распределение отлично от нормального\n"
     ]
    }
   ],
   "source": [
    "#фильтруем датафрейм для стат анализа\n",
    "data_DS= data[data['job_title']== 'Data Scientist']\n",
    "\n",
    "# создаем новые признаки для проверки на нормальность\n",
    "salary_2020 = data_DS[data_DS['work_year'] == 2020]['salary_in_usd']\n",
    "salary_2021 = data_DS[data_DS['work_year'] == 2021]['salary_in_usd']\n",
    "salary_2022 = data_DS[data_DS['work_year'] == 2022]['salary_in_usd']\n",
    "\n",
    "#проводим тест шапиро-уилка\n",
    "print('Для 2020:')\n",
    "result= stats.shapiro(salary_2020)\n",
    "decision_normality(result[1])\n",
    "\n",
    "print('Для 2020:')\n",
    "result= stats.shapiro(salary_2020)\n",
    "decision_normality(result[1])\n",
    "\n",
    "print('Для 2020:')\n",
    "result= stats.shapiro(salary_2020)\n",
    "decision_normality(result[1])"
   ]
  },
  {
   "cell_type": "markdown",
   "id": "2508d038",
   "metadata": {},
   "source": [
    "#### *Выбираем подходящий статистический тест* \n",
    "\n",
    "\n",
    "В таком случае будем импользовать метод Краскела-Уоллиса для общего сравнения, и попарное сравнение манна-уитни"
   ]
  },
  {
   "cell_type": "code",
   "execution_count": 210,
   "id": "433dd998",
   "metadata": {},
   "outputs": [
    {
     "name": "stdout",
     "output_type": "stream",
     "text": [
      "1. ОБЩЕЕ СРАВНЕНИЕ (Тест Крускала-Уоллиса):\n",
      "p-value = 0.000\n",
      "p-значение меньше, чем заданный уровень значимости 0.05. Отвергаем нулевую гипотезу в пользу альтернативной.\n",
      "\n",
      "2. ПРОВЕРКА ЕЖЕГОДНОГО РОСТА (Тест Манна-Уитни с поправкой Бонферрони):\n",
      "2020 < 2021 (скорректированное):\n",
      "p-value = 1.411\n",
      "p-значение больше, чем заданный уровень значимости 0.05. У нас нет оснований отвергнуть нулевую гипотезу.\n",
      "(исходное p-value: 0.7054)\n",
      "2021 < 2022 (скорректированное):\n",
      "p-value = 0.000\n",
      "p-значение меньше, чем заданный уровень значимости 0.05. Отвергаем нулевую гипотезу в пользу альтернативной.\n",
      "(исходное p-value: 0.0000)\n",
      "\n",
      "3. ИТОГОВЫЙ ВЫВОД:\n",
      "⚠️ Есть различия между годами, но не последовательный ежегодный рост (с поправкой Бонферрони)\n"
     ]
    }
   ],
   "source": [
    "import scipy.stats as stats\n",
    "from scipy.stats import mannwhitneyu, kruskal\n",
    "\n",
    "# Уровень значимости\n",
    "alpha = 0.05\n",
    "num_comparisons = 2\n",
    "\n",
    "print(\"1. ОБЩЕЕ СРАВНЕНИЕ (Тест Крускала-Уоллиса):\")\n",
    "_, p_kw = kruskal(salary_2020, salary_2021, salary_2022)\n",
    "decision_hypothesis(p_kw)  \n",
    "print()\n",
    "\n",
    "# Поправка Бонферрони\n",
    "bonferroni_alpha = alpha / num_comparisons\n",
    "\n",
    "print(f\"2. ПРОВЕРКА ЕЖЕГОДНОГО РОСТА (Тест Манна-Уитни с поправкой Бонферрони):\")\n",
    "\n",
    "# 2020 vs 2021\n",
    "_, p_20_21 = mannwhitneyu(salary_2020, salary_2021, alternative='less')\n",
    "p_20_21_corrected = p_20_21 * num_comparisons\n",
    "print(\"2020 < 2021 (скорректированное):\")\n",
    "decision_hypothesis(p_20_21_corrected)\n",
    "print(f\"(исходное p-value: {p_20_21:.4f})\")\n",
    "\n",
    "# 2021 vs 2022  \n",
    "_, p_21_22 = mannwhitneyu(salary_2021, salary_2022, alternative='less')\n",
    "p_21_22_corrected = p_21_22 * num_comparisons\n",
    "print(\"2021 < 2022 (скорректированное):\")\n",
    "decision_hypothesis(p_21_22_corrected)\n",
    "print(f\"(исходное p-value: {p_21_22:.4f})\")\n",
    "\n",
    "# Общий вывод о ежегодном росте\n",
    "print(\"\\n3. ИТОГОВЫЙ ВЫВОД:\")\n",
    "if p_20_21_corrected <= alpha and p_21_22_corrected <= alpha:\n",
    "    print(\"🎯 Наблюдается статистически значимый ЕЖЕГОДНЫЙ рост зарплат (с поправкой Бонферрони)!\")\n",
    "elif p_kw < alpha:\n",
    "    print(\"⚠️ Есть различия между годами, но не последовательный ежегодный рост (с поправкой Бонферрони)\")\n",
    "else:\n",
    "    print(\"❌ Статистически значимых различий между годами не обнаружено\")"
   ]
  },
  {
   "cell_type": "markdown",
   "id": "b2043fea",
   "metadata": {},
   "source": [
    "#### **ВЫВОД**\n",
    "Нет оснований полагать,  что наблюдается ежегодный рост зарплат для специалистов DS,  различия есть между годами, но не последовательный ежегодный рост"
   ]
  },
  {
   "cell_type": "markdown",
   "id": "34f4a77d",
   "metadata": {},
   "source": [
    "### *5.2 Как соотносятся зарплаты Data Scientist и Data Engineer в 2022 году?*\n"
   ]
  },
  {
   "cell_type": "markdown",
   "id": "75bf134a",
   "metadata": {},
   "source": [
    "- *Нулевая гипотеза(H0)*: Зарплата DS меньше или равна  зарплате DE\n",
    "- *Альтернативная(Н1)*: Зарплата DS больше зарплаты DE\n",
    "\n",
    "\n",
    "        - Сравниваемых  групп -2\n",
    "        - группы независимы\n",
    "        - признак Salary_in_usd количественный"
   ]
  },
  {
   "cell_type": "code",
   "execution_count": 211,
   "id": "ee0b9eaa",
   "metadata": {},
   "outputs": [],
   "source": [
    "\n",
    "# Фильтруем данные: оставляем только Data Scientist и Data Engineer за 2022 год\n",
    "filtered_df = data[(data['work_year'] == 2022)].copy() "
   ]
  },
  {
   "cell_type": "markdown",
   "id": "31fa28da",
   "metadata": {},
   "source": [
    " Проверка на нормальность "
   ]
  },
  {
   "cell_type": "code",
   "execution_count": 212,
   "id": "b891ce0b",
   "metadata": {},
   "outputs": [
    {
     "name": "stdout",
     "output_type": "stream",
     "text": [
      " Для DS\n",
      "p-value = 0.676\n",
      "p-значение больше, чем заданный уровень значимости 0.05. Распределение является нормальным\n",
      "Для DE\n",
      "p-value = 0.676\n",
      "p-значение больше, чем заданный уровень значимости 0.05. Распределение является нормальным\n"
     ]
    }
   ],
   "source": [
    "\n",
    "#проверка на нормальность \n",
    "\n",
    "DS  = filtered_df[filtered_df['job_title'] == 'Data Scientist']['salary_in_usd']\n",
    "DE = filtered_df[filtered_df['job_title'] == 'Data Engineer']['salary_in_usd']\n",
    "\n",
    "# проводим тест Shapiro\n",
    "print(' Для DS')\n",
    "result = stats.shapiro(DS)\n",
    "decision_normality(result[1])\n",
    "\n",
    "print('Для DE')\n",
    "result = stats.shapiro(DS)\n",
    "decision_normality(result[1])"
   ]
  },
  {
   "cell_type": "code",
   "execution_count": 213,
   "id": "ae4f2021",
   "metadata": {},
   "outputs": [
    {
     "name": "stdout",
     "output_type": "stream",
     "text": [
      "Levene's test p-value: 0.7765056650239544\n",
      "Дисперсии можно считать равными. Используем t-тест с равными дисперсиями.\n"
     ]
    }
   ],
   "source": [
    "#проводим тест на равенство дисперсий\n",
    "levene_test = stats.levene(DS, DE)\n",
    "print(f\"Levene's test p-value: {levene_test.pvalue}\")\n",
    "\n",
    "if levene_test.pvalue > 0.05:\n",
    "    print(\"Дисперсии можно считать равными. Используем t-тест с равными дисперсиями.\")\n",
    "    equal_var = True\n",
    "else:\n",
    "    print(\"Дисперсии значимо различаются. Используем t-тест Уэлча (с неравными дисперсиями).\")\n",
    "    equal_var = False"
   ]
  },
  {
   "cell_type": "markdown",
   "id": "091fa587",
   "metadata": {},
   "source": [
    "#### Для проверки нашей гипотезу подойдет тест t-test"
   ]
  },
  {
   "cell_type": "code",
   "execution_count": 214,
   "id": "9218ea48",
   "metadata": {},
   "outputs": [
    {
     "name": "stdout",
     "output_type": "stream",
     "text": [
      "p-value = 0.241\n",
      "p-значение больше, чем заданный уровень значимости 0.05. У нас нет оснований отвергнуть нулевую гипотезу.\n"
     ]
    }
   ],
   "source": [
    "_ ,p = stats.ttest_ind(DS, DE , alternative='greater')\n",
    "decision_hypothesis(p)"
   ]
  },
  {
   "cell_type": "markdown",
   "id": "02a963f4",
   "metadata": {},
   "source": [
    "#### **ВЫВОД**\n",
    "На основе имеющихся данных за 2022 год нельзя сделать вывод, что зарплата Data Scientist статистически значимо превышает зарплату Data Engineer.\\\n",
    "Статистические данные не подтверждают альтернативную гипотезу о том, что Data Scientist получают больше."
   ]
  },
  {
   "cell_type": "markdown",
   "id": "753086fd",
   "metadata": {},
   "source": [
    "### *5.3 Как соотносятся зарплаты специалистов Data Scientist в компаниях различных размеров?*"
   ]
  },
  {
   "cell_type": "markdown",
   "id": "7d1d5152",
   "metadata": {},
   "source": [
    "\n",
    "        - Тип признака 'company_size' - был закодирован и теперь имеет количественный тип\n",
    "        - 3 сравниваемых группы\n",
    "        - Группы независимы\n",
    "\n",
    "**Общая проверка на наличие различий** \n",
    "\n",
    "*Нулевая гипотеза (H₀):* Медианные зарплаты специалистов Data Scientist одинаковы для компаний разного размера (S, M, L). Распределения зарплат во всех группах идентичны.\n",
    "\n",
    "*Альтернативная гипотеза (H₁):* Медианные зарплаты специалистов Data Scientist не все одинаковы среди компаний разного размера. По крайней мере, одна группа отличается от других.\n",
    "\n",
    "**Набор гипотез для попарного сравнения**\n",
    "\n",
    "*Пара 1: Малые (S) vs Средние (M) компании*\n",
    "\n",
    "- H₀: Медианные зарплаты Data Scientist в малых и средних компаниях одинаковы\n",
    "\n",
    "- H₁: Медианные зарплаты Data Scientist в малых и средних компаниях различаются\n",
    "\n",
    "*Пара 2: Малые (S) vs Крупные (L) компании*\n",
    "\n",
    "- H₀: Медианные зарплаты Data Scientist в малых и крупных компаниях одинаковы\n",
    "\n",
    "- H₁: Медианные зарплаты Data Scientist в малых и крупных компаниях различаются\n",
    "\n",
    "*Пара 3: Средние (M) vs Крупные (L) компании*\n",
    "\n",
    "- H₀: Медианные зарплаты Data Scientist в средних и крупных компаниях одинаковы\n",
    "\n",
    "- H₁: Медианные зарплаты Data Scientist в средних и крупных компаниях различаются\n"
   ]
  },
  {
   "cell_type": "code",
   "execution_count": 215,
   "id": "50b85e27",
   "metadata": {},
   "outputs": [
    {
     "name": "stdout",
     "output_type": "stream",
     "text": [
      "Для маленьких  компаний\n",
      "p-value = 0.189\n",
      "p-значение больше, чем заданный уровень значимости 0.05. Распределение является нормальным\n",
      "Для средних  компаний\n",
      "p-value = 0.897\n",
      "p-значение больше, чем заданный уровень значимости 0.05. Распределение является нормальным\n",
      "Для больших  компаний\n",
      "p-value = 0.000\n",
      "p-значение меньше, чем заданный уровень значимости 0.05. Распределение отлично от нормального\n"
     ]
    }
   ],
   "source": [
    "# Проверяем признаки на нормальное распределение\n",
    "\n",
    "#фильтруем по специалистам\n",
    "data_DS= data[data['job_title']== 'Data Scientist']\n",
    "\n",
    "# Маленькие компании \n",
    "little_company = data_DS[data_DS['company_size'] == 'S']['salary_in_usd']\n",
    "\n",
    "# Средние компании\n",
    "middle_company = data_DS[data_DS['company_size'] == 'M']['salary_in_usd']\n",
    "\n",
    "# Крупные компании\n",
    "big_company = data_DS[data_DS['company_size'] == 'L']['salary_in_usd']\n",
    "\n",
    "print('Для маленьких  компаний')\n",
    "result= stats.shapiro(little_company)\n",
    "decision_normality(result[1])\n",
    "\n",
    "print('Для средних  компаний')\n",
    "result= stats.shapiro(middle_company)\n",
    "decision_normality(result[1])\n",
    "\n",
    "print('Для больших  компаний')\n",
    "result= stats.shapiro(big_company)\n",
    "decision_normality(result[1])\n",
    "\n"
   ]
  },
  {
   "cell_type": "markdown",
   "id": "108ded19",
   "metadata": {},
   "source": [
    "Один из признаков распределен отлично от нормального,  воспользуемся непараметрическими тестами\n",
    "\n",
    "Применим метод Краскела-Уоллиса и  Манна- Уитни для статистических  тестов "
   ]
  },
  {
   "cell_type": "code",
   "execution_count": 216,
   "id": "85579ce8",
   "metadata": {},
   "outputs": [
    {
     "name": "stdout",
     "output_type": "stream",
     "text": [
      " Проводим тест Краскела-Уоллиса на равенство признаков \n",
      "p-value = 0.000\n",
      "p-значение меньше, чем заданный уровень значимости 0.05. Отвергаем нулевую гипотезу в пользу альтернативной.\n",
      "\n",
      "ПОПАРНОЕ СРАВНЕНИЕ ГРУПП (Манна-Уитни с поправкой Бонферрони)\n",
      "============================================================\n",
      "Сравнение: Маленькие компании vs Средние компании \n",
      "p-value = 0.0000\n",
      "Критический уровень значимости (с поправкой Бонферрони) = 0.0167\n",
      "✅ ОТВЕРГАЕМ H₀: Есть статистически значимые различия между Маленькие компании и Средние компании\n",
      "--------------------------------------------------\n",
      "Сравнение: Маленькие компании vs Крупные компании \n",
      "p-value = 0.0026\n",
      "Критический уровень значимости (с поправкой Бонферрони) = 0.0167\n",
      "✅ ОТВЕРГАЕМ H₀: Есть статистически значимые различия между Маленькие компании и Крупные компании\n",
      "--------------------------------------------------\n",
      "Сравнение: Средние компании vs Крупные компании \n",
      "p-value = 0.0483\n",
      "Критический уровень значимости (с поправкой Бонферрони) = 0.0167\n",
      "❌ НЕ ОТВЕРГАЕМ H₀: Нет статистически значимых различий между Средние компании и Крупные компании\n",
      "--------------------------------------------------\n",
      "\n",
      "Общее примечание: Уровень значимости α = 0.05 скорректирован до 0.0167 по Бонферрони\n"
     ]
    }
   ],
   "source": [
    "from scipy.stats import mannwhitneyu\n",
    "from itertools import combinations\n",
    "\n",
    "#Метод Краскела-Уоллиса на равенство \n",
    "print(' Проводим тест Краскела-Уоллиса на равенство признаков ')\n",
    "_ , p = stats.kruskal(little_company, middle_company, big_company)\n",
    "decision_hypothesis(p)\n",
    "print()\n",
    "\n",
    "#Метод Манна -уитни для более подробного статистического анализа \n",
    "# Поправка Бонферрони для 3 сравнений\n",
    "num_comparisons = 3\n",
    "alpha_corrected = alpha / num_comparisons\n",
    "\n",
    "print(\"ПОПАРНОЕ СРАВНЕНИЕ ГРУПП (Манна-Уитни с поправкой Бонферрони)\")\n",
    "print(\"=\" * 60)\n",
    "\n",
    "\n",
    "groups = {\n",
    "    \"Маленькие компании\": little_company,\n",
    "    \"Средние компании\": middle_company,\n",
    "    \"Крупные компании\": big_company\n",
    "}\n",
    "# Создаем все возможные пары для сравнения\n",
    "pairs = list(combinations(groups.items(), 2))\n",
    "\n",
    "for (name1, data1), (name2, data2) in pairs:\n",
    "    # Формулируем гипотезы для этой пары\n",
    "    print(f\"Сравнение: {name1} vs {name2} \")\n",
    "    # Проводим статистический тест\n",
    "    _ , p = mannwhitneyu(data1, data2, alternative='two-sided')\n",
    "    \n",
    "    print(f\"p-value = {p:.4f}\")\n",
    "    print(f\"Критический уровень значимости (с поправкой Бонферрони) = {alpha_corrected:.4f}\")\n",
    "    \n",
    "    # Принимаем решение\n",
    "    if p < alpha_corrected:\n",
    "        print(f\"✅ ОТВЕРГАЕМ H₀: Есть статистически значимые различия между {name1} и {name2}\")\n",
    "    else:\n",
    "        print(f\"❌ НЕ ОТВЕРГАЕМ H₀: Нет статистически значимых различий между {name1} и {name2}\")\n",
    "    \n",
    "    print(\"-\" * 50)\n",
    "\n",
    "print(f\"\\nОбщее примечание: Уровень значимости α = {alpha} скорректирован до {alpha_corrected:.4f} по Бонферрони\")\n",
    "    "
   ]
  },
  {
   "cell_type": "markdown",
   "id": "5884d082",
   "metadata": {},
   "source": [
    "#### **ВЫВОД**\n",
    "\n",
    "ПО тесту Краскела-Уоллиса на равенство признаков,  у нас нет оснований отвергать нулевую гипотезу. Медианные зарплаты специалистов Data Scientist одинаковы для компаний разного размера (S, M, L). Распределения зарплат во всех группах идентичны\n",
    "\n",
    "\n",
    "По попарному сравнению групп (Манна-Уитни с поправкой Бонферрони): \n",
    "- Между небольшими и средними компаниями есть статистически значимые различия\n",
    "- между небольшими и крупными компаниями так же есть статистически значимые различия\n",
    "- между средними и крупными компаниями нет статистически значимых различий"
   ]
  },
  {
   "cell_type": "markdown",
   "id": "fa5d3021",
   "metadata": {},
   "source": [
    "### *5.4 Есть ли связь между наличием должностей Data Scientist и Data Engineer и размером компании?*"
   ]
  },
  {
   "cell_type": "markdown",
   "id": "0813fd6f",
   "metadata": {},
   "source": [
    "Будем использовать Критерий хи-квадрат для статистического теста \n",
    "\n",
    "- Нулевая гипотеза (H₀): Распределение компаний, в которых есть должности Data Scientist и/или Data Engineer, не зависит от размера компании. Маленькие, средние и большие компании с одинаковой вероятностью имеют эти должности. \n",
    "- Альтернативная гипотеза (H₁): Распределение компаний, в которых есть должности Data Scientist и/или Data Engineer, зависит от размера компании. Вероятность найти DS'а или DE'а по-разному в компаниях разного размера."
   ]
  },
  {
   "cell_type": "code",
   "execution_count": 217,
   "id": "ce8403f3",
   "metadata": {},
   "outputs": [
    {
     "name": "stdout",
     "output_type": "stream",
     "text": [
      "p-value = 0.005\n",
      "p-значение меньше, чем заданный уровень значимости 0.05. Отвергаем нулевую гипотезу в пользу альтернативной.\n"
     ]
    }
   ],
   "source": [
    "# Фильтруем данные только по интересующим нас должностям\n",
    "filtered_df = data[(data['job_title'] == 'Data Scientist') | (data['job_title'] == 'Data Engineer')]\n",
    "\n",
    "# Создаем таблицу сопряженности\n",
    "table = pd.crosstab(filtered_df['company_size'], filtered_df['job_title'])\n",
    "_ , p, _, _ = stats.chi2_contingency(table)\n",
    "decision_hypothesis(p)"
   ]
  },
  {
   "cell_type": "markdown",
   "id": "692f617e",
   "metadata": {},
   "source": [
    "Поскольку p-значение (0.005) меньше уровня значимости (0.05), мы отвергаем нулевую гипотезу в пользу альтернативной.\n",
    "\n",
    "Это означает, что существует статистически значимая связь между размером компании и наличием должностей Data Scientist и Data Engineer.\n",
    "- Крупные компании действительно чаще нанимают Data Scientist'ов и Data Engineer'ов\n",
    "- Маленькие компании реже имеют эти специализированные позиции\n",
    "- Распределение data-ролей по размерам компаний не является случайным"
   ]
  },
  {
   "cell_type": "markdown",
   "id": "d1499cb6",
   "metadata": {},
   "source": [
    "### *5.5 Наблюдается ли  зависимость между  опытом работы и средним уровнем дохода у специалистов Data Science*\n",
    "\n"
   ]
  },
  {
   "cell_type": "markdown",
   "id": "cf1c4ba8",
   "metadata": {},
   "source": [
    "\n",
    "\n",
    "- **Нулевая гипотеза:** При повышении опыта работы не изменяется заработная плата \n",
    "- **Альтернативная гипотеза:** При повышении опыта работы изменяется заработная плата \n",
    "\n",
    "experience_level- имеет 3 признака 0, 1,2, 3( джуниор ,  мидл , сеньер,  директор )\n",
    "salary_in_usd -ЗП в долларах"
   ]
  },
  {
   "cell_type": "code",
   "execution_count": 218,
   "id": "81b139b0",
   "metadata": {},
   "outputs": [
    {
     "name": "stdout",
     "output_type": "stream",
     "text": [
      "p-value = 0.000\n",
      "p-значение меньше, чем заданный уровень значимости 0.05. Отвергаем нулевую гипотезу в пользу альтернативной.\n"
     ]
    }
   ],
   "source": [
    "# фильтруем данные по профессии DS\n",
    "data_DS= data[data['job_title'] == 'Data Scientist']\n",
    "\n",
    "#фильтруем данные по опыту работы  \n",
    "df_en= data_DS[data_DS['experience_level']=='EN']['salary_in_usd']\n",
    "df_mi= data_DS[data_DS['experience_level']== 'MI']['salary_in_usd']\n",
    "df_se= data_DS[data_DS['experience_level']== 'SE']['salary_in_usd']\n",
    "\n",
    "# используем тест Краскела для проверки на равенство \n",
    "_ , p = stats.kruskal(df_en, df_mi,df_se)\n",
    "decision_hypothesis(p)"
   ]
  },
  {
   "cell_type": "code",
   "execution_count": 219,
   "id": "2998e679",
   "metadata": {},
   "outputs": [
    {
     "name": "stdout",
     "output_type": "stream",
     "text": [
      "p-value = 0.000\n",
      "p-значение меньше, чем заданный уровень значимости 0.05. Отвергаем нулевую гипотезу в пользу альтернативной.\n"
     ]
    }
   ],
   "source": [
    "corr, p_value = stats.spearmanr(data_DS['experience_level'], data_DS['salary_in_usd'])\n",
    "decision_hypothesis(p)\n",
    "\n"
   ]
  },
  {
   "cell_type": "markdown",
   "id": "24d1fca5",
   "metadata": {},
   "source": [
    "ПРи повышении опыта у нас нет оснований утвержадть что заработная плата у специалиста DS изменяется(Увеличивается или уменьшается). Это может говорить о том,  что при повышении опыта у сотрудников возможна смена названия профессии.Из статистичекого теста можно сделать вывод, прямой зависимости над опытом и ЗП DS не наблюдается или она слишком мала "
   ]
  },
  {
   "cell_type": "markdown",
   "id": "5e561aff",
   "metadata": {},
   "source": [
    "# ***ОБЩИЙ ВЫВОД***"
   ]
  },
  {
   "cell_type": "markdown",
   "id": "fe93ca84",
   "metadata": {},
   "source": [
    "#### **1. Размер компании: Нелинейная зависимость**\n",
    "Результаты показывают, что зависимость зарплаты от размера компании не является линейной (\"чем больше компания, тем выше зарплата\").\n",
    "\n",
    "*   **Наибольшие зарплаты наблюдаются в компаниях среднего размера.** Они предлагают зарплаты в среднем на **22% выше**, чем крупные компании, и в **2.4 раза выше**, чем малые предприятия.\n",
    "*   **Статистическая значимость:**\n",
    "    *   **Значимая разница** наблюдается между малыми и средними, а также между малыми и крупными компаниями.\n",
    "    *   **Незначимая разница** между средними и крупными компаниями.\n",
    "\n",
    "**Вывод:** Для специалиста DS переход из малой компании в среднюю или крупную ведет к существенному росту дохода. Однако \"потолок\" зарплат может находиться именно в сегменте средних, возможно, более гибких и амбициозных компаний.\n",
    "\n",
    "---\n",
    "\n",
    "#### **2. Опыт работы: Самый мощный драйвер роста**\n",
    "Опыт оказывает наиболее сильное влияние на уровень дохода, однако картина роста не всегда однородна.\n",
    "\n",
    "*   **Качественный скачок:** Переход с уровня **Entry-level (EN)** к **Mid-level (MI)** сопровождается увеличением зарплаты в **2-3 раза** (с ~$38-68k до ~$86-101k).\n",
    "*   **Дальнейший рост:** Переход от **Mid-level (MI)** к **Senior-level (SE)** дает увеличение еще в **1.5-2 раза** (до ~$152-154k).\n",
    "*   **Важное статистическое уточнение:** Несмотря на очевидный количественный рост, **тест Краскела-Уоллиса не выявил статистически значимых различий** между всеми группами опыта в целом. Это может указывать на две возможные причины:\n",
    "    1.  **Смена роли:** При достижении определенного уровня опыта специалисты часто меняют не просто уровень, а саму должность (например, уходя в руководящие роли Principal DS, ML Engineer, Manager), которые не всегда попадают в выборку \"Data Scientist\".\n",
    "    2.  **Высокий разброс данных:** Зарплаты внутри одной группы опыта (особенно среди senior-специалистов) могут сильно варьироваться в зависимости от других факторов (например, стека технологий, индустрии), \"размывая\" статистическую значимость.\n",
    "\n",
    "**Вывод:** Опыт критически важен для роста зарплаты, особенно на ранних и средних этапах карьеры. На уровне Senior влияние других факторов (специализация, менеджерские навыки) становится сравнимым с опытом.\n",
    "\n",
    "---\n",
    "\n",
    "#### **3. Внешние факторы: Рынок труда и глобальные события**\n",
    "Динамика зарплат четко отражает конъюнктуру рынка труда, подверженную влиянию внешних событий.\n",
    "\n",
    "*   **2020 год (\"Эффект пандемии\"):** Резкий всплеск спроса на цифровизацию и Data Science на фоне кризиса привел к **росту зарплат** как инструменту привлечения дефицитных кадров.\n",
    "*   **2021 год (\"Коррекция\"):** Рынок начал насыщаться, компании адаптировались к новым условиям, что, вероятно, привело к некоторому **снижению или стагнации зарплатных предложений**.\n",
    "*   **2022 год (\"Стабилизация\"):** Рынок нашел новый баланс, и зарплаты **стабилизировались** на новом, установившемся уровне.\n",
    "\n",
    "**Вывод:** Зарплаты в DS являются высокочувствительным индикатором спроса и предложения на рынке труда, который, в свою очередь, зависит от глобальных экономических трендов.\n",
    "\n",
    "---\n",
    "\n",
    "### **Общий итог**\n",
    "\n",
    "На зарплату специалиста Data Science влияет комплекс факторов:\n",
    "1.  **Карьерный рост (опыт)** — ключевой двигатель, особенно на старте.\n",
    "2.  **Выбор работодателя (размер компании)** — максимальный доход часто не в самых крупных корпорациях, а в растущих средних компаниях.\n",
    "3.  **Рыночный контекст (время)** — глобальные события и циклы рынка труда могут существенно корректировать зарплатные ожидания."
   ]
  }
 ],
 "metadata": {
  "kernelspec": {
   "display_name": ".venv",
   "language": "python",
   "name": "python3"
  },
  "language_info": {
   "codemirror_mode": {
    "name": "ipython",
    "version": 3
   },
   "file_extension": ".py",
   "mimetype": "text/x-python",
   "name": "python",
   "nbconvert_exporter": "python",
   "pygments_lexer": "ipython3",
   "version": "3.10.10"
  }
 },
 "nbformat": 4,
 "nbformat_minor": 5
}
